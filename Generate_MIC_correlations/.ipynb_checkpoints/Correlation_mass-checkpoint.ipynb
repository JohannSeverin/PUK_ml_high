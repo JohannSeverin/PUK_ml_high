{
 "cells": [
  {
   "cell_type": "code",
   "execution_count": 10,
   "metadata": {},
   "outputs": [],
   "source": [
    "import minepy\n",
    "import numpy as np\n",
    "import matplotlib.pyplot as plt\n",
    "import pandas as pd\n",
    "import uproot, os, sys\n",
    "\n",
    "from iminuit import Minuit\n"
   ]
  },
  {
   "cell_type": "code",
   "execution_count": 11,
   "metadata": {},
   "outputs": [],
   "source": [
    "data_path = \"../../Data/mc15_13TeV.361203.Pythia8_A2_MSTW2008LO_ND_minbias.30062015_v0_per_0.root\"\n",
    "data_file = uproot.open(data_path)\n",
    "data_tree = data_file['tree']\n",
    "\n",
    "features = data_tree.keys(data_tree.keys()[:139])\n",
    "features.remove(b\"v0_ks_mass\")\n",
    "\n",
    "N_data = 5000\n",
    "df = data_tree.pandas.df(features, entrystop = N_data)\n",
    "mass = data_tree.pandas.df(b\"v0_ks_mass\", entrystop = N_data)"
   ]
  },
  {
   "cell_type": "code",
   "execution_count": 12,
   "metadata": {},
   "outputs": [],
   "source": [
    "mics_mc = {}\n",
    "pear_mc = {}\n",
    "\n",
    "for col in df.columns:\n",
    "    mine = minepy.MINE()\n",
    "    mine.compute_score(mass.values.flatten(), df[col].values.flatten())\n",
    "#     print(f\"{col}: {mine.mic():.3f}\")\n",
    "    mics_mc[col] = mine.mic()\n",
    "    pear_mc[col] = np.corrcoef(mass.values.flatten(), df[col].values.flatten())[0, 1]"
   ]
  },
  {
   "cell_type": "code",
   "execution_count": 14,
   "metadata": {},
   "outputs": [
    {
     "data": {
      "text/plain": [
       "{'pT': (0.4702431785296978, 0.6671742157290241),\n",
       " 'v0_ks_massErr': (0.3425752834139658, 0.5716585872345982),\n",
       " 'trueKs': (0.2912166814399217, -0.02218177009775142),\n",
       " 'trueKs_x': (0.2912166814399217, -0.02218179001670448),\n",
       " 'trueKs_y': (0.2912166814399217, -0.02218179453177523),\n",
       " 'trueKs_z': (0.2912166814399217, -0.02218143277748007),\n",
       " 'alpha': (0.257456327145269, -0.07131299996751521),\n",
       " 'Alpha': (0.257456327145269, -0.07131299494009263),\n",
       " 'calpha': (0.21351221246276092, -0.3847218445710511),\n",
       " 'cosTheta': (0.1831395113533299, -0.049508065652257585),\n",
       " 'v0_rxyErr': (0.17576840587312273, -0.18827344905457485),\n",
       " 'v0_la_mass': (0.16973117904824023, 0.38532732907086775),\n",
       " 'v0_lb_mass': (0.14347094886235404, 0.2853395228997734),\n",
       " 'trueGa': (0.13577510701637027, -0.2435741923226813),\n",
       " 'trueGa_x': (0.13577510701637027, -0.24357396757778074),\n",
       " 'trueGa_y': (0.13577510701637027, -0.24357391593288483),\n",
       " 'trueGa_z': (0.13577510701637027, -0.2435731537199997),\n",
       " 'thetastar': (0.1269877337718484, 0.07625938534564823),\n",
       " 'a0': (0.12544689538562445, 0.02322642957432706),\n",
       " 'a0z': (0.12544689538562445, 0.02322642957432706),\n",
       " 'v0_rxy': (0.11784963450371953, -0.10550532262867797),\n",
       " 'v0_la_massErr': (0.11778609889443845, 0.21249902145325875),\n",
       " 'pL1': (0.11667139411644227, 0.051289284426644946),\n",
       " 'v0_x': (0.10971732738005069, 0.011973191031010263),\n",
       " 'a0xy': (0.10935172963737917, 0.03331888134320077),\n",
       " 'v0_lb_massErr': (0.10927461591793453, 0.16113771558198334),\n",
       " 'v0_y': (0.10800479417349688, -0.0067297454794439365),\n",
       " 'pL2': (0.10557196327954352, 0.11876341173042648),\n",
       " 'v0_chi2': (0.10542498748365446, 0.10910606393028931),\n",
       " 'numberOfSCTHits1': (0.1020335474967758, -0.04224661552814771),\n",
       " 'v0_z': (0.0976483862767268, 0.012503600316232972),\n",
       " 'v0_pt2': (0.09604483628976451, 0.1459958409799299),\n",
       " 'epsilon1': (0.09474696734112842, 0.012383686847541953),\n",
       " 'v0_p': (0.09329214277047986, 0.10770381950141443),\n",
       " 'v0_pt': (0.09314501883640838, 0.07941511858539778),\n",
       " 'v0_ptErr': (0.09183470684923559, 0.04215219353976352),\n",
       " 'numberOfSCTHits2': (0.09138114758794191, -0.0032100412956084547),\n",
       " 'v0_p2': (0.09129716520086421, 0.13140563149364698),\n",
       " 'v0_qOverP2': (0.09129716520086421, 0.03953746647457129),\n",
       " 'epsilon2': (0.08996378054256268, 0.04844151809830028)}"
      ]
     },
     "execution_count": 14,
     "metadata": {},
     "output_type": "execute_result"
    }
   ],
   "source": [
    "{k: (v, pear_mc[k]) for k, v in sorted(mics_mc.items(), key=lambda item: item[1], reverse = True)[:40]}"
   ]
  },
  {
   "cell_type": "code",
   "execution_count": 6,
   "metadata": {},
   "outputs": [],
   "source": [
    "data_path = \"../../Data/data15_13TeV.00267358.physics_MinBias.30062015_v0_per_0.root\"\n",
    "data_file = uproot.open(data_path)\n",
    "data_tree = data_file['tree']\n",
    "\n",
    "features = data_tree.keys(data_tree.keys()[:139])\n",
    "features.remove(b\"v0_ks_mass\")\n",
    "\n",
    "N_data = 5000\n",
    "df = data_tree.pandas.df(features, entrystop = N_data)\n",
    "mass = data_tree.pandas.df(b\"v0_ks_mass\", entrystop = N_data)"
   ]
  },
  {
   "cell_type": "code",
   "execution_count": 7,
   "metadata": {},
   "outputs": [],
   "source": [
    "mics = {}\n",
    "pear = {}\n",
    "\n",
    "for col in df.columns:\n",
    "    mine = minepy.MINE()\n",
    "    mine.compute_score(mass.values.flatten(), df[col].values.flatten())\n",
    "#     print(f\"{col}: {mine.mic():.3f}\")\n",
    "    mics[col] = mine.mic()\n",
    "    pear[col] = np.corrcoef(mass.values.flatten(), df[col].values.flatten())[0, 1]"
   ]
  },
  {
   "cell_type": "code",
   "execution_count": 8,
   "metadata": {},
   "outputs": [
    {
     "data": {
      "text/plain": [
       "{'pT': (0.4741391245325178, 0.6774518621649932),\n",
       " 'v0_ks_massErr': (0.3789575411194499, 0.49420428707031333),\n",
       " 'alpha': (0.2823922275691578, -0.0165252419212433),\n",
       " 'Alpha': (0.2823922275691578, -0.01652523840159938),\n",
       " 'calpha': (0.22234988990530077, -0.38287792697950895),\n",
       " 'v0_rxyErr': (0.1723976681464505, -0.20244291587722618),\n",
       " 'v0_la_mass': (0.16228832950789454, 0.3683091755140039),\n",
       " 'v0_lb_mass': (0.1584300341811528, 0.3320038396811863),\n",
       " 'cosTheta': (0.1523305868594224, -0.028575781814197978),\n",
       " 'pL1': (0.1291492052316309, 0.1281533288173096),\n",
       " 'v0_rxy': (0.1278187805767846, -0.1463917737640998),\n",
       " 'thetastar': (0.12604262382764644, 0.01481177419836214),\n",
       " 'pL2': (0.11800218574781625, 0.11714249455432273),\n",
       " 'v0_x': (0.116200179266777, 0.023774133965280334),\n",
       " 'v0_pt': (0.11515911206494168, 0.13581347787493273),\n",
       " 'a0': (0.1116817124007811, -0.05593378992951021),\n",
       " 'a0z': (0.1116817124007811, -0.05593378992951021),\n",
       " 'v0_lb_massErr': (0.11058779876995997, 0.15911543330531044),\n",
       " 'numberOfSCTHits2': (0.10914151423009023, 0.06706623727750093),\n",
       " 'a0xy': (0.108627202172256, 0.06387240929284976)}"
      ]
     },
     "execution_count": 8,
     "metadata": {},
     "output_type": "execute_result"
    }
   ],
   "source": [
    "{k: (v, pear[k]) for k, v in sorted(mics.items(), key=lambda item: item[1], reverse = True)[:20]}"
   ]
  },
  {
   "cell_type": "code",
   "execution_count": 19,
   "metadata": {},
   "outputs": [],
   "source": [
    "features = \"pT v0_ks_massErr alpha calpha v0_rxyErr cosTheta pL1 v0_rxy v0_thetastar\".split(\" \")"
   ]
  },
  {
   "cell_type": "code",
   "execution_count": 20,
   "metadata": {},
   "outputs": [
    {
     "ename": "KeyError",
     "evalue": "not found: b'v0_thetastar'\n in file: ../../Data/mc15_13TeV.361203.Pythia8_A2_MSTW2008LO_ND_minbias.30062015_v0_per_0.root",
     "output_type": "error",
     "traceback": [
      "\u001b[0;31m---------------------------------------------------------------------------\u001b[0m",
      "\u001b[0;31mKeyError\u001b[0m                                  Traceback (most recent call last)",
      "\u001b[0;32m/opt/conda/envs/python3/lib/python3.7/site-packages/uproot/tree.py\u001b[0m in \u001b[0;36mget\u001b[0;34m(self, name, recursive, filtername, filtertitle, aliases)\u001b[0m\n\u001b[1;32m    398\u001b[0m         \u001b[0;32mtry\u001b[0m\u001b[0;34m:\u001b[0m\u001b[0;34m\u001b[0m\u001b[0;34m\u001b[0m\u001b[0m\n\u001b[0;32m--> 399\u001b[0;31m             \u001b[0;32mreturn\u001b[0m \u001b[0mself\u001b[0m\u001b[0;34m.\u001b[0m\u001b[0m_branchlookup\u001b[0m\u001b[0;34m[\u001b[0m\u001b[0mname\u001b[0m\u001b[0;34m]\u001b[0m\u001b[0;34m\u001b[0m\u001b[0;34m\u001b[0m\u001b[0m\n\u001b[0m\u001b[1;32m    400\u001b[0m         \u001b[0;32mexcept\u001b[0m \u001b[0mKeyError\u001b[0m\u001b[0;34m:\u001b[0m\u001b[0;34m\u001b[0m\u001b[0;34m\u001b[0m\u001b[0m\n",
      "\u001b[0;31mKeyError\u001b[0m: b'v0_thetastar'",
      "\nDuring handling of the above exception, another exception occurred:\n",
      "\u001b[0;31mKeyError\u001b[0m                                  Traceback (most recent call last)",
      "\u001b[0;32m<ipython-input-20-ffd948befa68>\u001b[0m in \u001b[0;36m<module>\u001b[0;34m\u001b[0m\n\u001b[1;32m      2\u001b[0m \u001b[0mtest_ratio\u001b[0m \u001b[0;34m=\u001b[0m \u001b[0;36m0.2\u001b[0m\u001b[0;34m\u001b[0m\u001b[0;34m\u001b[0m\u001b[0m\n\u001b[1;32m      3\u001b[0m \u001b[0;34m\u001b[0m\u001b[0m\n\u001b[0;32m----> 4\u001b[0;31m \u001b[0mdf\u001b[0m \u001b[0;34m=\u001b[0m \u001b[0mdata_tree\u001b[0m\u001b[0;34m.\u001b[0m\u001b[0mpandas\u001b[0m\u001b[0;34m.\u001b[0m\u001b[0mdf\u001b[0m\u001b[0;34m(\u001b[0m\u001b[0mfeatures\u001b[0m\u001b[0;34m,\u001b[0m \u001b[0mentrystop\u001b[0m \u001b[0;34m=\u001b[0m \u001b[0mNdata\u001b[0m\u001b[0;34m)\u001b[0m\u001b[0;34m\u001b[0m\u001b[0;34m\u001b[0m\u001b[0m\n\u001b[0m\u001b[1;32m      5\u001b[0m \u001b[0;34m\u001b[0m\u001b[0m\n\u001b[1;32m      6\u001b[0m \u001b[0mmass\u001b[0m \u001b[0;34m=\u001b[0m \u001b[0mdata_tree\u001b[0m\u001b[0;34m.\u001b[0m\u001b[0mpandas\u001b[0m\u001b[0;34m.\u001b[0m\u001b[0mdf\u001b[0m\u001b[0;34m(\u001b[0m\u001b[0mfeatures\u001b[0m\u001b[0;34m,\u001b[0m \u001b[0mentrystop\u001b[0m \u001b[0;34m=\u001b[0m \u001b[0mNdata\u001b[0m\u001b[0;34m)\u001b[0m\u001b[0;34m\u001b[0m\u001b[0;34m\u001b[0m\u001b[0m\n",
      "\u001b[0;32m/opt/conda/envs/python3/lib/python3.7/site-packages/uproot/_connect/_pandas.py\u001b[0m in \u001b[0;36mdf\u001b[0;34m(self, branches, namedecode, entrystart, entrystop, flatten, flatname, awkwardlib, cache, basketcache, keycache, executor, blocking)\u001b[0m\n\u001b[1;32m     30\u001b[0m     \u001b[0;32mdef\u001b[0m \u001b[0mdf\u001b[0m\u001b[0;34m(\u001b[0m\u001b[0mself\u001b[0m\u001b[0;34m,\u001b[0m \u001b[0mbranches\u001b[0m\u001b[0;34m=\u001b[0m\u001b[0;32mNone\u001b[0m\u001b[0;34m,\u001b[0m \u001b[0mnamedecode\u001b[0m\u001b[0;34m=\u001b[0m\u001b[0;34m\"utf-8\"\u001b[0m\u001b[0;34m,\u001b[0m \u001b[0mentrystart\u001b[0m\u001b[0;34m=\u001b[0m\u001b[0;32mNone\u001b[0m\u001b[0;34m,\u001b[0m \u001b[0mentrystop\u001b[0m\u001b[0;34m=\u001b[0m\u001b[0;32mNone\u001b[0m\u001b[0;34m,\u001b[0m \u001b[0mflatten\u001b[0m\u001b[0;34m=\u001b[0m\u001b[0;32mTrue\u001b[0m\u001b[0;34m,\u001b[0m \u001b[0mflatname\u001b[0m\u001b[0;34m=\u001b[0m\u001b[0;32mNone\u001b[0m\u001b[0;34m,\u001b[0m \u001b[0mawkwardlib\u001b[0m\u001b[0;34m=\u001b[0m\u001b[0;32mNone\u001b[0m\u001b[0;34m,\u001b[0m \u001b[0mcache\u001b[0m\u001b[0;34m=\u001b[0m\u001b[0;32mNone\u001b[0m\u001b[0;34m,\u001b[0m \u001b[0mbasketcache\u001b[0m\u001b[0;34m=\u001b[0m\u001b[0;32mNone\u001b[0m\u001b[0;34m,\u001b[0m \u001b[0mkeycache\u001b[0m\u001b[0;34m=\u001b[0m\u001b[0;32mNone\u001b[0m\u001b[0;34m,\u001b[0m \u001b[0mexecutor\u001b[0m\u001b[0;34m=\u001b[0m\u001b[0;32mNone\u001b[0m\u001b[0;34m,\u001b[0m \u001b[0mblocking\u001b[0m\u001b[0;34m=\u001b[0m\u001b[0;32mTrue\u001b[0m\u001b[0;34m)\u001b[0m\u001b[0;34m:\u001b[0m\u001b[0;34m\u001b[0m\u001b[0;34m\u001b[0m\u001b[0m\n\u001b[1;32m     31\u001b[0m         \u001b[0;32mimport\u001b[0m \u001b[0mpandas\u001b[0m\u001b[0;34m\u001b[0m\u001b[0;34m\u001b[0m\u001b[0m\n\u001b[0;32m---> 32\u001b[0;31m         \u001b[0;32mreturn\u001b[0m \u001b[0mself\u001b[0m\u001b[0;34m.\u001b[0m\u001b[0m_tree\u001b[0m\u001b[0;34m.\u001b[0m\u001b[0marrays\u001b[0m\u001b[0;34m(\u001b[0m\u001b[0mbranches\u001b[0m\u001b[0;34m=\u001b[0m\u001b[0mbranches\u001b[0m\u001b[0;34m,\u001b[0m \u001b[0moutputtype\u001b[0m\u001b[0;34m=\u001b[0m\u001b[0mpandas\u001b[0m\u001b[0;34m.\u001b[0m\u001b[0mDataFrame\u001b[0m\u001b[0;34m,\u001b[0m \u001b[0mnamedecode\u001b[0m\u001b[0;34m=\u001b[0m\u001b[0mnamedecode\u001b[0m\u001b[0;34m,\u001b[0m \u001b[0mentrystart\u001b[0m\u001b[0;34m=\u001b[0m\u001b[0mentrystart\u001b[0m\u001b[0;34m,\u001b[0m \u001b[0mentrystop\u001b[0m\u001b[0;34m=\u001b[0m\u001b[0mentrystop\u001b[0m\u001b[0;34m,\u001b[0m \u001b[0mflatten\u001b[0m\u001b[0;34m=\u001b[0m\u001b[0mflatten\u001b[0m\u001b[0;34m,\u001b[0m \u001b[0mflatname\u001b[0m\u001b[0;34m=\u001b[0m\u001b[0mflatname\u001b[0m\u001b[0;34m,\u001b[0m \u001b[0mawkwardlib\u001b[0m\u001b[0;34m=\u001b[0m\u001b[0mawkwardlib\u001b[0m\u001b[0;34m,\u001b[0m \u001b[0mcache\u001b[0m\u001b[0;34m=\u001b[0m\u001b[0mcache\u001b[0m\u001b[0;34m,\u001b[0m \u001b[0mbasketcache\u001b[0m\u001b[0;34m=\u001b[0m\u001b[0mbasketcache\u001b[0m\u001b[0;34m,\u001b[0m \u001b[0mkeycache\u001b[0m\u001b[0;34m=\u001b[0m\u001b[0mkeycache\u001b[0m\u001b[0;34m,\u001b[0m \u001b[0mexecutor\u001b[0m\u001b[0;34m=\u001b[0m\u001b[0mexecutor\u001b[0m\u001b[0;34m,\u001b[0m \u001b[0mblocking\u001b[0m\u001b[0;34m=\u001b[0m\u001b[0mblocking\u001b[0m\u001b[0;34m)\u001b[0m\u001b[0;34m\u001b[0m\u001b[0;34m\u001b[0m\u001b[0m\n\u001b[0m\u001b[1;32m     33\u001b[0m \u001b[0;34m\u001b[0m\u001b[0m\n\u001b[1;32m     34\u001b[0m     \u001b[0;32mdef\u001b[0m \u001b[0miterate\u001b[0m\u001b[0;34m(\u001b[0m\u001b[0mself\u001b[0m\u001b[0;34m,\u001b[0m \u001b[0mbranches\u001b[0m\u001b[0;34m=\u001b[0m\u001b[0;32mNone\u001b[0m\u001b[0;34m,\u001b[0m \u001b[0mentrysteps\u001b[0m\u001b[0;34m=\u001b[0m\u001b[0;32mNone\u001b[0m\u001b[0;34m,\u001b[0m \u001b[0mnamedecode\u001b[0m\u001b[0;34m=\u001b[0m\u001b[0;34m\"utf-8\"\u001b[0m\u001b[0;34m,\u001b[0m \u001b[0mentrystart\u001b[0m\u001b[0;34m=\u001b[0m\u001b[0;32mNone\u001b[0m\u001b[0;34m,\u001b[0m \u001b[0mentrystop\u001b[0m\u001b[0;34m=\u001b[0m\u001b[0;32mNone\u001b[0m\u001b[0;34m,\u001b[0m \u001b[0mflatten\u001b[0m\u001b[0;34m=\u001b[0m\u001b[0;32mTrue\u001b[0m\u001b[0;34m,\u001b[0m \u001b[0mflatname\u001b[0m\u001b[0;34m=\u001b[0m\u001b[0;32mNone\u001b[0m\u001b[0;34m,\u001b[0m \u001b[0mawkwardlib\u001b[0m\u001b[0;34m=\u001b[0m\u001b[0;32mNone\u001b[0m\u001b[0;34m,\u001b[0m \u001b[0mcache\u001b[0m\u001b[0;34m=\u001b[0m\u001b[0;32mNone\u001b[0m\u001b[0;34m,\u001b[0m \u001b[0mbasketcache\u001b[0m\u001b[0;34m=\u001b[0m\u001b[0;32mNone\u001b[0m\u001b[0;34m,\u001b[0m \u001b[0mkeycache\u001b[0m\u001b[0;34m=\u001b[0m\u001b[0;32mNone\u001b[0m\u001b[0;34m,\u001b[0m \u001b[0mexecutor\u001b[0m\u001b[0;34m=\u001b[0m\u001b[0;32mNone\u001b[0m\u001b[0;34m,\u001b[0m \u001b[0mblocking\u001b[0m\u001b[0;34m=\u001b[0m\u001b[0;32mTrue\u001b[0m\u001b[0;34m)\u001b[0m\u001b[0;34m:\u001b[0m\u001b[0;34m\u001b[0m\u001b[0;34m\u001b[0m\u001b[0m\n",
      "\u001b[0;32m/opt/conda/envs/python3/lib/python3.7/site-packages/uproot/tree.py\u001b[0m in \u001b[0;36marrays\u001b[0;34m(self, branches, outputtype, namedecode, entrystart, entrystop, flatten, flatname, awkwardlib, cache, basketcache, keycache, executor, blocking, recursive)\u001b[0m\n\u001b[1;32m    524\u001b[0m     \u001b[0;32mdef\u001b[0m \u001b[0marrays\u001b[0m\u001b[0;34m(\u001b[0m\u001b[0mself\u001b[0m\u001b[0;34m,\u001b[0m \u001b[0mbranches\u001b[0m\u001b[0;34m=\u001b[0m\u001b[0;32mNone\u001b[0m\u001b[0;34m,\u001b[0m \u001b[0moutputtype\u001b[0m\u001b[0;34m=\u001b[0m\u001b[0mdict\u001b[0m\u001b[0;34m,\u001b[0m \u001b[0mnamedecode\u001b[0m\u001b[0;34m=\u001b[0m\u001b[0;32mNone\u001b[0m\u001b[0;34m,\u001b[0m \u001b[0mentrystart\u001b[0m\u001b[0;34m=\u001b[0m\u001b[0;32mNone\u001b[0m\u001b[0;34m,\u001b[0m \u001b[0mentrystop\u001b[0m\u001b[0;34m=\u001b[0m\u001b[0;32mNone\u001b[0m\u001b[0;34m,\u001b[0m \u001b[0mflatten\u001b[0m\u001b[0;34m=\u001b[0m\u001b[0;32mFalse\u001b[0m\u001b[0;34m,\u001b[0m \u001b[0mflatname\u001b[0m\u001b[0;34m=\u001b[0m\u001b[0;32mNone\u001b[0m\u001b[0;34m,\u001b[0m \u001b[0mawkwardlib\u001b[0m\u001b[0;34m=\u001b[0m\u001b[0;32mNone\u001b[0m\u001b[0;34m,\u001b[0m \u001b[0mcache\u001b[0m\u001b[0;34m=\u001b[0m\u001b[0;32mNone\u001b[0m\u001b[0;34m,\u001b[0m \u001b[0mbasketcache\u001b[0m\u001b[0;34m=\u001b[0m\u001b[0;32mNone\u001b[0m\u001b[0;34m,\u001b[0m \u001b[0mkeycache\u001b[0m\u001b[0;34m=\u001b[0m\u001b[0;32mNone\u001b[0m\u001b[0;34m,\u001b[0m \u001b[0mexecutor\u001b[0m\u001b[0;34m=\u001b[0m\u001b[0;32mNone\u001b[0m\u001b[0;34m,\u001b[0m \u001b[0mblocking\u001b[0m\u001b[0;34m=\u001b[0m\u001b[0;32mTrue\u001b[0m\u001b[0;34m,\u001b[0m \u001b[0mrecursive\u001b[0m\u001b[0;34m=\u001b[0m\u001b[0;32mTrue\u001b[0m\u001b[0;34m)\u001b[0m\u001b[0;34m:\u001b[0m\u001b[0;34m\u001b[0m\u001b[0;34m\u001b[0m\u001b[0m\n\u001b[1;32m    525\u001b[0m         \u001b[0mawkward\u001b[0m \u001b[0;34m=\u001b[0m \u001b[0m_normalize_awkwardlib\u001b[0m\u001b[0;34m(\u001b[0m\u001b[0mawkwardlib\u001b[0m\u001b[0;34m)\u001b[0m\u001b[0;34m\u001b[0m\u001b[0;34m\u001b[0m\u001b[0m\n\u001b[0;32m--> 526\u001b[0;31m         \u001b[0mbranches\u001b[0m \u001b[0;34m=\u001b[0m \u001b[0mlist\u001b[0m\u001b[0;34m(\u001b[0m\u001b[0mself\u001b[0m\u001b[0;34m.\u001b[0m\u001b[0m_normalize_branches\u001b[0m\u001b[0;34m(\u001b[0m\u001b[0mbranches\u001b[0m\u001b[0;34m,\u001b[0m \u001b[0mawkward\u001b[0m\u001b[0;34m)\u001b[0m\u001b[0;34m)\u001b[0m\u001b[0;34m\u001b[0m\u001b[0;34m\u001b[0m\u001b[0m\n\u001b[0m\u001b[1;32m    527\u001b[0m         \u001b[0;32mfor\u001b[0m \u001b[0mbranch\u001b[0m\u001b[0;34m,\u001b[0m \u001b[0minterpretation\u001b[0m \u001b[0;32min\u001b[0m \u001b[0mbranches\u001b[0m\u001b[0;34m:\u001b[0m\u001b[0;34m\u001b[0m\u001b[0;34m\u001b[0m\u001b[0m\n\u001b[1;32m    528\u001b[0m             \u001b[0;32mif\u001b[0m \u001b[0mbranch\u001b[0m\u001b[0;34m.\u001b[0m\u001b[0m_recoveredbaskets\u001b[0m \u001b[0;32mis\u001b[0m \u001b[0;32mNone\u001b[0m\u001b[0;34m:\u001b[0m\u001b[0;34m\u001b[0m\u001b[0;34m\u001b[0m\u001b[0m\n",
      "\u001b[0;32m/opt/conda/envs/python3/lib/python3.7/site-packages/uproot/tree.py\u001b[0m in \u001b[0;36m_normalize_branches\u001b[0;34m(self, arg, awkward, allownone, allowcallable, allowdict, allowstring, aliases)\u001b[0m\n\u001b[1;32m    879\u001b[0m \u001b[0;34m\u001b[0m\u001b[0m\n\u001b[1;32m    880\u001b[0m                     \u001b[0;32melse\u001b[0m\u001b[0;34m:\u001b[0m\u001b[0;34m\u001b[0m\u001b[0;34m\u001b[0m\u001b[0m\n\u001b[0;32m--> 881\u001b[0;31m                         \u001b[0mbranch\u001b[0m \u001b[0;34m=\u001b[0m \u001b[0mself\u001b[0m\u001b[0;34m.\u001b[0m\u001b[0mget\u001b[0m\u001b[0;34m(\u001b[0m\u001b[0mword\u001b[0m\u001b[0;34m,\u001b[0m \u001b[0maliases\u001b[0m\u001b[0;34m=\u001b[0m\u001b[0maliases\u001b[0m\u001b[0;34m)\u001b[0m\u001b[0;34m\u001b[0m\u001b[0;34m\u001b[0m\u001b[0m\n\u001b[0m\u001b[1;32m    882\u001b[0m                         \u001b[0minterpretation\u001b[0m \u001b[0;34m=\u001b[0m \u001b[0minterpret\u001b[0m\u001b[0;34m(\u001b[0m\u001b[0mbranch\u001b[0m\u001b[0;34m,\u001b[0m \u001b[0mawkward\u001b[0m\u001b[0;34m)\u001b[0m\u001b[0;34m\u001b[0m\u001b[0;34m\u001b[0m\u001b[0m\n\u001b[1;32m    883\u001b[0m                         \u001b[0;32mif\u001b[0m \u001b[0minterpretation\u001b[0m \u001b[0;32mis\u001b[0m \u001b[0;32mNone\u001b[0m\u001b[0;34m:\u001b[0m\u001b[0;34m\u001b[0m\u001b[0;34m\u001b[0m\u001b[0m\n",
      "\u001b[0;32m/opt/conda/envs/python3/lib/python3.7/site-packages/uproot/tree.py\u001b[0m in \u001b[0;36mget\u001b[0;34m(self, name, recursive, filtername, filtertitle, aliases)\u001b[0m\n\u001b[1;32m    403\u001b[0m                     \u001b[0mself\u001b[0m\u001b[0;34m.\u001b[0m\u001b[0m_branchlookup\u001b[0m\u001b[0;34m[\u001b[0m\u001b[0mname\u001b[0m\u001b[0;34m]\u001b[0m \u001b[0;34m=\u001b[0m \u001b[0mb\u001b[0m\u001b[0;34m\u001b[0m\u001b[0;34m\u001b[0m\u001b[0m\n\u001b[1;32m    404\u001b[0m                     \u001b[0;32mreturn\u001b[0m \u001b[0mb\u001b[0m\u001b[0;34m\u001b[0m\u001b[0;34m\u001b[0m\u001b[0m\n\u001b[0;32m--> 405\u001b[0;31m             \u001b[0;32mraise\u001b[0m \u001b[0muproot\u001b[0m\u001b[0;34m.\u001b[0m\u001b[0mrootio\u001b[0m\u001b[0;34m.\u001b[0m\u001b[0m_KeyError\u001b[0m\u001b[0;34m(\u001b[0m\u001b[0;34m\"not found: {0}\\n in file: {1}\"\u001b[0m\u001b[0;34m.\u001b[0m\u001b[0mformat\u001b[0m\u001b[0;34m(\u001b[0m\u001b[0mrepr\u001b[0m\u001b[0;34m(\u001b[0m\u001b[0mname\u001b[0m\u001b[0;34m)\u001b[0m\u001b[0;34m,\u001b[0m \u001b[0mself\u001b[0m\u001b[0;34m.\u001b[0m\u001b[0m_context\u001b[0m\u001b[0;34m.\u001b[0m\u001b[0msourcepath\u001b[0m\u001b[0;34m)\u001b[0m\u001b[0;34m)\u001b[0m\u001b[0;34m\u001b[0m\u001b[0;34m\u001b[0m\u001b[0m\n\u001b[0m\u001b[1;32m    406\u001b[0m \u001b[0;34m\u001b[0m\u001b[0m\n\u001b[1;32m    407\u001b[0m     \u001b[0;32mdef\u001b[0m \u001b[0m__contains__\u001b[0m\u001b[0;34m(\u001b[0m\u001b[0mself\u001b[0m\u001b[0;34m,\u001b[0m \u001b[0mname\u001b[0m\u001b[0;34m)\u001b[0m\u001b[0;34m:\u001b[0m\u001b[0;34m\u001b[0m\u001b[0;34m\u001b[0m\u001b[0m\n",
      "\u001b[0;31mKeyError\u001b[0m: not found: b'v0_thetastar'\n in file: ../../Data/mc15_13TeV.361203.Pythia8_A2_MSTW2008LO_ND_minbias.30062015_v0_per_0.root"
     ]
    }
   ],
   "source": [
    "Ndata = 10**6\n",
    "test_ratio = 0.2\n",
    "\n",
    "df = data_tree.pandas.df(features, entrystop = Ndata)\n",
    "\n",
    "mass = data_tree.pandas.df(features, entrystop = Ndata)\n",
    "\n",
    "from sklearn.model_selection import train_test_split\n",
    "df_train, df_test, mass_train, mass_test= train_test_split(df, mass, test_size = test_ratio)"
   ]
  },
  {
   "cell_type": "code",
   "execution_count": null,
   "metadata": {},
   "outputs": [],
   "source": []
  }
 ],
 "metadata": {
  "kernelspec": {
   "display_name": "Python 3",
   "language": "python",
   "name": "python3"
  },
  "language_info": {
   "codemirror_mode": {
    "name": "ipython",
    "version": 3
   },
   "file_extension": ".py",
   "mimetype": "text/x-python",
   "name": "python",
   "nbconvert_exporter": "python",
   "pygments_lexer": "ipython3",
   "version": "3.7.6"
  }
 },
 "nbformat": 4,
 "nbformat_minor": 4
}
