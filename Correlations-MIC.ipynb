{
 "cells": [
  {
   "cell_type": "markdown",
   "metadata": {
    "toc": true
   },
   "source": [
    "<h1>Indholdsfortegnelse<span class=\"tocSkip\"></span></h1>\n",
    "<div class=\"toc\"><ul class=\"toc-item\"></ul></div>"
   ]
  },
  {
   "cell_type": "code",
   "execution_count": 1,
   "metadata": {
    "ExecuteTime": {
     "end_time": "2020-09-16T14:06:22.449640Z",
     "start_time": "2020-09-16T14:06:21.846732Z"
    }
   },
   "outputs": [],
   "source": [
    "import numpy as np\n",
    "import pandas as pd\n",
    "import matplotlib.pyplot as plt\n",
    "import uproot, os, dill\n",
    "import minepy as mp"
   ]
  },
  {
   "cell_type": "code",
   "execution_count": 2,
   "metadata": {
    "ExecuteTime": {
     "end_time": "2020-09-16T14:06:22.575160Z",
     "start_time": "2020-09-16T14:06:22.454650Z"
    }
   },
   "outputs": [],
   "source": [
    "# Load Data\n",
    "data_path = \"../Data/data15_13TeV.00267358.physics_MinBias.30062015_v0_per_0.root\"\n",
    "data_file = uproot.open(data_path)\n",
    "data_tree = data_file['tree']\n",
    "\n",
    "# load_variables = \"v0_rxy v0_chi2 cosTheta v0_ks_mass v0_rxyErr pT ntrk_pv0 a0 calpha a0xy pv0_y\".split(\" \")\n",
    "load_variables = data_tree.keys()[:57]\n",
    "load_variables.remove(b\"npv\")\n",
    "\n",
    "df = data_tree.pandas.df(load_variables, entrystop = 10**6)\n",
    "df = df.sample(1000)\n"
   ]
  },
  {
   "cell_type": "code",
   "execution_count": 3,
   "metadata": {
    "ExecuteTime": {
     "end_time": "2020-09-16T14:06:22.581290Z",
     "start_time": "2020-09-16T14:06:22.578287Z"
    }
   },
   "outputs": [],
   "source": [
    "# define probability variable\n",
    "# model_path = \"models/data_trained_xg.dat\"\n",
    "\n",
    "# func_seri = dill.load(open(model_path, 'rb'))\n",
    "# prob_func = dill.loads(func_seri)"
   ]
  },
  {
   "cell_type": "code",
   "execution_count": 4,
   "metadata": {
    "ExecuteTime": {
     "end_time": "2020-09-16T14:06:22.589716Z",
     "start_time": "2020-09-16T14:06:22.586115Z"
    }
   },
   "outputs": [],
   "source": [
    "\n",
    "# df = prob_func(df)"
   ]
  },
  {
   "cell_type": "code",
   "execution_count": 5,
   "metadata": {
    "ExecuteTime": {
     "end_time": "2020-09-16T14:06:22.599893Z",
     "start_time": "2020-09-16T14:06:22.592907Z"
    }
   },
   "outputs": [],
   "source": [
    "import pickle\n",
    "update_mic_matrix = False\n",
    "\n",
    "if update_mic_matrix:\n",
    "    import minepy\n",
    "    result = mp.pstats(df.T)\n",
    "    pickle.dump((df.columns, result), open(\"resources/mic_matrix.dat\", 'wb'))\n",
    "else:\n",
    "    col, result = pickle.load(open(\"resources/mic_matrix.dat\", 'rb'))"
   ]
  },
  {
   "cell_type": "code",
   "execution_count": null,
   "metadata": {},
   "outputs": [],
   "source": []
  },
  {
   "cell_type": "code",
   "execution_count": 6,
   "metadata": {
    "ExecuteTime": {
     "end_time": "2020-09-16T14:06:22.575160Z",
     "start_time": "2020-09-16T14:06:22.454650Z"
    }
   },
   "outputs": [],
   "source": [
    "# Load Data\n",
    "data_path = \"../Data/mc15_13TeV.361203.Pythia8_A2_MSTW2008LO_ND_minbias.30062015_v0_per_0.root\"\n",
    "data_file = uproot.open(data_path)\n",
    "data_tree = data_file['tree']\n",
    "\n",
    "# load_variables = \"v0_rxy v0_chi2 cosTheta v0_ks_mass v0_rxyErr pT ntrk_pv0 a0 calpha a0xy pv0_y\".split(\" \")\n",
    "load_variables = data_tree.keys()[:57]\n",
    "load_variables.remove(b\"npv\")\n",
    "\n",
    "df = data_tree.pandas.df(load_variables, entrystop = 10**6)\n",
    "df = df.sample(1000)"
   ]
  },
  {
   "cell_type": "code",
   "execution_count": 7,
   "metadata": {
    "ExecuteTime": {
     "end_time": "2020-09-16T14:06:22.581290Z",
     "start_time": "2020-09-16T14:06:22.578287Z"
    }
   },
   "outputs": [],
   "source": [
    "# define probability variable\n",
    "# model_path = \"models/data_trained_xg.dat\"\n",
    "\n",
    "# func_seri = dill.load(open(model_path, 'rb'))\n",
    "# prob_func = dill.loads(func_seri)"
   ]
  },
  {
   "cell_type": "code",
   "execution_count": 8,
   "metadata": {
    "ExecuteTime": {
     "end_time": "2020-09-16T14:06:22.589716Z",
     "start_time": "2020-09-16T14:06:22.586115Z"
    }
   },
   "outputs": [],
   "source": [
    "\n",
    "# df = prob_func(df)"
   ]
  },
  {
   "cell_type": "code",
   "execution_count": 9,
   "metadata": {
    "ExecuteTime": {
     "end_time": "2020-09-16T14:06:22.599893Z",
     "start_time": "2020-09-16T14:06:22.592907Z"
    }
   },
   "outputs": [],
   "source": [
    "import pickle\n",
    "update_mic_matrix_mc = True\n",
    "\n",
    "if update_mic_matrix_mc:\n",
    "    import minepy\n",
    "    result = mp.pstats(df.T)\n",
    "    pickle.dump((df.columns, result), open(\"resources/mic_matrix_mc.dat\", 'wb'))\n",
    "else:\n",
    "    col, result_mc = pickle.load(open(\"resources/mic_matrix_mc.dat\", 'rb'))"
   ]
  },
  {
   "cell_type": "code",
   "execution_count": 10,
   "metadata": {
    "ExecuteTime": {
     "end_time": "2020-09-16T14:06:22.610496Z",
     "start_time": "2020-09-16T14:06:22.603070Z"
    }
   },
   "outputs": [
    {
     "data": {
      "text/plain": [
       "(1540,)"
      ]
     },
     "execution_count": 10,
     "metadata": {},
     "output_type": "execute_result"
    }
   ],
   "source": [
    "result[0].shape"
   ]
  },
  {
   "cell_type": "code",
   "execution_count": 11,
   "metadata": {
    "ExecuteTime": {
     "end_time": "2020-09-16T14:06:22.667782Z",
     "start_time": "2020-09-16T14:06:22.613207Z"
    }
   },
   "outputs": [],
   "source": [
    "from scipy.spatial.distance import squareform\n",
    "\n",
    "mat = squareform(result[0])\n",
    "\n",
    "col_mc, result_mc = pickle.load(open(\"resources/mic_matrix_mc.dat\", 'rb'))\n",
    "mat_mc = squareform(result_mc[0])"
   ]
  },
  {
   "cell_type": "code",
   "execution_count": 12,
   "metadata": {
    "ExecuteTime": {
     "end_time": "2020-09-16T14:06:22.955212Z",
     "start_time": "2020-09-16T14:06:22.671468Z"
    }
   },
   "outputs": [
    {
     "data": {
      "image/png": "[encoded data removed]",
      "text/plain": [
       "<Figure size 1296x1152 with 1 Axes>"
      ]
     },
     "metadata": {
      "needs_background": "light"
     },
     "output_type": "display_data"
    }
   ],
   "source": [
    "fig, ax = plt.subplots(figsize = (18, 16))\n",
    "show = ax.imshow(mat) \n",
    "cols = df.columns\n",
    "\n",
    "# for i in range(len(cols)):\n",
    "#     for j in range(len(cols)):\n",
    "#         text = ax.text(j, i, np.round(mat[i, j], 2),\n",
    "#                        ha=\"center\", va=\"center\", color=\"w\")"
   ]
  },
  {
   "cell_type": "code",
   "execution_count": 13,
   "metadata": {
    "ExecuteTime": {
     "end_time": "2020-09-16T14:06:25.549879Z",
     "start_time": "2020-09-16T14:06:22.959669Z"
    }
   },
   "outputs": [
    {
     "data": {
      "image/png": "[encoded data removed]",
      "text/plain": [
       "<Figure size 1296x1152 with 2 Axes>"
      ]
     },
     "execution_count": 13,
     "metadata": {},
     "output_type": "execute_result"
    }
   ],
   "source": [
    "ax.set_xticks(np.arange(len(cols)))\n",
    "ax.set_xticklabels(cols, rotation = 90)\n",
    "ax.set_yticks(np.arange(len(cols)))\n",
    "ax.set_yticklabels(cols)\n",
    "ax.tick_params(axis = 'x', bottom = False, top = True, labelbottom = False, labeltop = True)\n",
    "# ax.xticks(rotation = 90)\n",
    "\n",
    "cbar = fig.colorbar(show)\n",
    "cbar.ax.set_ylabel(\"MIC-score\", rotation = 270, fontsize = 18)\n",
    "\n",
    "\n",
    "fig.tight_layout()\n",
    "fig"
   ]
  },
  {
   "cell_type": "code",
   "execution_count": 14,
   "metadata": {
    "ExecuteTime": {
     "end_time": "2020-09-16T14:06:25.575722Z",
     "start_time": "2020-09-16T14:06:25.552707Z"
    }
   },
   "outputs": [
    {
     "ename": "IndexError",
     "evalue": "index 56 is out of bounds for axis 1 with size 56",
     "output_type": "error",
     "traceback": [
      "\u001b[0;31m---------------------------------------------------------------------------\u001b[0m",
      "\u001b[0;31mIndexError\u001b[0m                                Traceback (most recent call last)",
      "\u001b[0;32m<ipython-input-14-415f2ac5dac3>\u001b[0m in \u001b[0;36m<module>\u001b[0;34m\u001b[0m\n\u001b[1;32m     13\u001b[0m \u001b[0mind_last\u001b[0m \u001b[0;34m=\u001b[0m \u001b[0mnp\u001b[0m\u001b[0;34m.\u001b[0m\u001b[0marray\u001b[0m\u001b[0;34m(\u001b[0m\u001b[0;34m[\u001b[0m\u001b[0mlist\u001b[0m\u001b[0;34m(\u001b[0m\u001b[0mcols\u001b[0m\u001b[0;34m)\u001b[0m\u001b[0;34m.\u001b[0m\u001b[0mindex\u001b[0m\u001b[0;34m(\u001b[0m\u001b[0mpar\u001b[0m\u001b[0;34m)\u001b[0m \u001b[0;32mfor\u001b[0m \u001b[0mpar\u001b[0m \u001b[0;32min\u001b[0m \u001b[0mlast\u001b[0m\u001b[0;34m]\u001b[0m \u001b[0;34m+\u001b[0m \u001b[0;34m[\u001b[0m\u001b[0mlen\u001b[0m\u001b[0;34m(\u001b[0m\u001b[0mcols\u001b[0m\u001b[0;34m)\u001b[0m\u001b[0;34m]\u001b[0m\u001b[0;34m)\u001b[0m\u001b[0;34m\u001b[0m\u001b[0;34m\u001b[0m\u001b[0m\n\u001b[1;32m     14\u001b[0m \u001b[0;34m\u001b[0m\u001b[0m\n\u001b[0;32m---> 15\u001b[0;31m \u001b[0msaved_rows\u001b[0m \u001b[0;34m=\u001b[0m \u001b[0mmat\u001b[0m\u001b[0;34m[\u001b[0m\u001b[0;34m:\u001b[0m\u001b[0;34m,\u001b[0m \u001b[0mind_last\u001b[0m\u001b[0;34m]\u001b[0m\u001b[0;34m\u001b[0m\u001b[0;34m\u001b[0m\u001b[0m\n\u001b[0m\u001b[1;32m     16\u001b[0m \u001b[0;34m\u001b[0m\u001b[0m\n\u001b[1;32m     17\u001b[0m \u001b[0mcols\u001b[0m \u001b[0;34m=\u001b[0m \u001b[0mlist\u001b[0m\u001b[0;34m(\u001b[0m\u001b[0mcols\u001b[0m\u001b[0;34m)\u001b[0m\u001b[0;34m\u001b[0m\u001b[0;34m\u001b[0m\u001b[0m\n",
      "\u001b[0;31mIndexError\u001b[0m: index 56 is out of bounds for axis 1 with size 56"
     ]
    }
   ],
   "source": [
    "from scipy.cluster.hierarchy import linkage, leaves_list, optimal_leaf_ordering\n",
    "from scipy.spatial.distance import squareform\n",
    "\n",
    "\n",
    "last = [\"v0_ks_mass\", \"eventCounter\", \"rapidity_la\", \"rapidity_lb\", \"v0_ks_massErr\", \"v0_la_massErr\", \\\n",
    "        \"v0_lb_mass\", \"rapidity_ks\", \"v0_la_mass\", \"v0_lb_massErr\"]\n",
    "\n",
    "mass_ind = np.where([\"v0_ks_mass\" == col for col in cols])\n",
    "\n",
    "mass = mat[:, mass_ind]\n",
    "mass_mc = mat[:, mass_ind]\n",
    "\n",
    "ind_last = np.array([list(cols).index(par) for par in last] + [len(cols)])\n",
    "\n",
    "saved_rows = mat[:, ind_last]\n",
    "\n",
    "cols = list(cols)\n",
    "\n",
    "for i in last:\n",
    "    try: \n",
    "        cols.remove(i)\n",
    "    except:\n",
    "        pass\n",
    "    \n",
    "# saved_rows = mat[:, ind_last]\n",
    "\n",
    "cut_mat = np.delete(mat, ind_last, axis = 1)\n",
    "cut_mat = np.delete(cut_mat, ind_last, axis = 0)\n",
    "mass = np.delete(mass, ind_last)\n",
    "\n",
    "cut_mat_mc = np.delete(mat_mc, ind_last, axis = 1)\n",
    "cut_mat_mc = np.delete(cut_mat_mc, ind_last, axis = 0)\n",
    "mass_mc = np.delete(mass_mc, ind_last)\n",
    "\n",
    "\n",
    "dist = squareform(cut_mat)\n",
    "dist = 1 - dist\n",
    "dist[dist < 0] = 0\n",
    "\n",
    "\n",
    "Z = linkage(dist, optimal_ordering = True, method = \"average\")\n",
    "sort_ind = leaves_list(optimal_leaf_ordering(Z, dist))\n",
    "\n",
    "# leaves_list(linkage(dist, optimal_ordering = True))"
   ]
  },
  {
   "cell_type": "code",
   "execution_count": null,
   "metadata": {},
   "outputs": [],
   "source": [
    "# sorted_mat = cut_mat[:, sort_ind]\n",
    "# sorted_mat = sorted_mat[sort_ind, :]\n",
    "\n",
    "# sorted_mat = np.hstack([sorted_mat, mass[sort_ind]])\n",
    "# sorted_mat = np.vstack([sorted_mat, np.append(mass[sort_ind], 0)])\n",
    "\n",
    "# sorted_mat_mc = cut_mat_mc[:, sort_ind]\n",
    "# sorted_mat_mc = sorted_mat_mc[sort_ind, :]\n",
    "\n",
    "# sorted_mat = np.hstack([sorted_mat, mass_mc[sort_ind]])\n",
    "# sorted_mat = np.vstack([sorted_mat, np.append(mass_mc[sort_ind], 0)])\n",
    "\n",
    "\n",
    "\n",
    "# combined = np.triu(sorted_mat) + np.tril(sorted_mat_mc)\n",
    "# # "
   ]
  },
  {
   "cell_type": "code",
   "execution_count": null,
   "metadata": {
    "ExecuteTime": {
     "end_time": "2020-09-16T14:06:25.582529Z",
     "start_time": "2020-09-16T14:06:25.578104Z"
    }
   },
   "outputs": [],
   "source": [
    "sorted_mat = cut_mat[:, sort_ind]\n",
    "sorted_mat = sorted_mat[sort_ind, :]\n",
    "\n",
    "sorted_mat = np.hstack([sorted_mat, mass[sort_ind].reshape(-1, 1)])\n",
    "sorted_mat = np.vstack([sorted_mat, np.append(mass[sort_ind], 0).reshape(1, -1)])\n",
    "\n",
    "sorted_mat_mc = cut_mat_mc[:, sort_ind]\n",
    "sorted_mat_mc = sorted_mat_mc[sort_ind, :]\n",
    "\n",
    "sorted_mat_mc = np.hstack([sorted_mat_mc, mass_mc[sort_ind].reshape(-1, 1)])\n",
    "sorted_mat_mc = np.vstack([sorted_mat_mc, np.append(mass_mc[sort_ind], 0).reshape(1, -1)])\n",
    "\n",
    "\n",
    "\n",
    "combined = np.triu(sorted_mat) + np.tril(sorted_mat_mc)\n",
    "# cols = cols.append()"
   ]
  },
  {
   "cell_type": "code",
   "execution_count": null,
   "metadata": {
    "ExecuteTime": {
     "end_time": "2020-09-16T14:06:25.927598Z",
     "start_time": "2020-09-16T14:06:25.586367Z"
    }
   },
   "outputs": [],
   "source": [
    "fig, ax = plt.subplots(figsize = (20, 16))\n",
    "show = ax.imshow(combined)"
   ]
  },
  {
   "cell_type": "code",
   "execution_count": null,
   "metadata": {
    "ExecuteTime": {
     "end_time": "2020-09-16T14:06:28.323173Z",
     "start_time": "2020-09-16T14:06:25.930235Z"
    }
   },
   "outputs": [],
   "source": [
    "ax.set_xticks(np.arange(len(sort_ind)+ 1))\n",
    "ax.set_xticklabels(np.append(np.array(cols)[sort_ind], \"v0_ks_mass\").flatten(), rotation = 90)\n",
    "ax.set_yticks(np.arange(len(sort_ind)+ 1))\n",
    "ax.set_yticklabels(np.append(np.array(cols)[sort_ind], \"v0_ks_Mass\").flatten())\n",
    "ax.tick_params(axis = 'x', bottom = False, top = True, labelbottom = False, labeltop = True)\n",
    "# ax.xticks(rotation = 90)\n",
    "\n",
    "cbar = fig.colorbar(show)\n",
    "cbar.ax.set_ylabel(\"MIC-score\", rotation = 270, fontsize = 18)\n",
    "\n",
    "\n",
    "fig"
   ]
  },
  {
   "cell_type": "code",
   "execution_count": null,
   "metadata": {
    "ExecuteTime": {
     "end_time": "2020-09-16T14:06:30.193464Z",
     "start_time": "2020-09-16T14:06:28.327090Z"
    }
   },
   "outputs": [],
   "source": [
    "from scipy.cluster.hierarchy import fcluster\n",
    "label = fcluster(Z,5 , criterion = \"maxclust\")[sort_ind]\n",
    "cuts = np.arange(len(label))[(label - np.roll(label, 1) == 1)]\n",
    "cuts = np.hstack([0] + list(cuts) + [len(label)])\n",
    "cuts = np.hstack([cuts[:-1], len(cols), cuts[-1]])\n",
    "\n",
    "# cuts = [0, 16, len(label)]\n",
    "\n",
    "for line in cuts[1:-1]:#np.arange(len(label))[(label - np.roll(label, 1) == 1)] - 0.5:\n",
    "        ax.hlines(line -.5, -0.5, len(sort_ind) + 0.5, color = 'white', linestyle = 'dashed')\n",
    "        ax.vlines(line -.5, -0.5, len(sort_ind) + 0.5, color = 'white', linestyle = 'dashed')\n",
    "\n",
    "# ax.hlines(5, 0, len(label), colors = 'white', linestyle = 'dashed')\n",
    "fig"
   ]
  },
  {
   "cell_type": "code",
   "execution_count": null,
   "metadata": {},
   "outputs": [],
   "source": [
    "ax.set_ylabel(\"MC-CORRELATIONS\", fontsize = 30)\n",
    "ax.set_xlabel(\"DATA-CORRELATIONS\", fontsize = 30)\n",
    "ax.xaxis.set_label_position('top') \n",
    "fig.tight_layout()"
   ]
  },
  {
   "cell_type": "code",
   "execution_count": null,
   "metadata": {},
   "outputs": [],
   "source": [
    "fig"
   ]
  },
  {
   "cell_type": "code",
   "execution_count": null,
   "metadata": {},
   "outputs": [],
   "source": [
    "fig.savefig(\"figures/ordered_and_clustered_mic_matrix.pdf\")"
   ]
  },
  {
   "cell_type": "code",
   "execution_count": null,
   "metadata": {
    "ExecuteTime": {
     "end_time": "2020-09-16T14:06:30.202723Z",
     "start_time": "2020-09-16T14:06:30.195838Z"
    }
   },
   "outputs": [],
   "source": [
    "cols = np.array(cols)[sort_ind]\n",
    "\n",
    "# cuts = [0, 16, len(cols)]\n",
    "# params1 = cols[:6]\n",
    "# params2 = cols[6:16]\n",
    "# params3 = cols[16:]\n",
    "\n",
    "params_list = [cols[cuts[i]:cuts[i+1]] for i in range(len(cuts) - 1)]"
   ]
  },
  {
   "cell_type": "code",
   "execution_count": null,
   "metadata": {
    "ExecuteTime": {
     "end_time": "2020-09-16T14:06:30.397867Z",
     "start_time": "2020-09-16T14:06:30.205507Z"
    },
    "code_folding": [
     6
    ]
   },
   "outputs": [],
   "source": [
    "from iminuit import Minuit\n",
    "from scipy.stats import norm, chi2\n",
    "import sys\n",
    "sys.path.append(\"py_files\")\n",
    "from ExternalFunctions import Chi2Regression, nice_string_output, add_text_to_ax\n",
    "from scipy.optimize import curve_fit\n",
    "\n",
    "\n",
    "def fit_data(xs, vals, errs, ax = None, guesses_bkgr = [0, 0, -10, 10000], guesses_sig = [498, 6, 17000]):\n",
    "    if not ax:\n",
    "        fig, ax = plt.subplots(figsize = (16, 10), ncols = 2)\n",
    "        ax_sig = ax[1]\n",
    "        ax_all = ax[0]\n",
    "        ax_all.plot(xs, vals, 'r.')\n",
    "        ax_all.errorbar(xs, vals, errs, color = 'k', elinewidth = 1, capsize = 2, ls = 'none')\n",
    "\n",
    " \n",
    "    # The background fit \n",
    "#     def background_fit(x, scale, loc, tau):\n",
    "#         return scale * np.exp(- x / tau)\n",
    "    \n",
    "    def background_fit(x, a, b, c, d):\n",
    "        return a * (x- 498) ** 3 + b * (x-498) ** 2 + c * (x-498) + d\n",
    "    \n",
    "    # The signal fit  Here gauss\n",
    "    def add_signal(x, mean, sig, size):\n",
    "        return size * norm.pdf(x, mean, sig)\n",
    "    \n",
    "    # The full fit\n",
    "    def full_fit(x, mean, sig, size, a, b, c, d):\n",
    "        return background_fit(x, a, b, c, d) + add_signal(x, mean, sig, size)\n",
    "    \n",
    "    # Background fit under here\n",
    "    vals_b, cov_b = curve_fit(background_fit, xs, vals, p0 = guesses_bkgr)\n",
    "    \n",
    "    b1, b2, b3, b4 = vals_b\n",
    "    \n",
    "    bkgr_chi2 = Chi2Regression(background_fit, xs, vals, errs)\n",
    "    bkgr_min  = Minuit(bkgr_chi2, pedantic = False, a = b1, b = b2, c = b3, d = b4)\n",
    "    \n",
    "    bkgr_min.migrad()\n",
    "    \n",
    "    # Plot result and save guesses\n",
    "    ax_all.plot(xs, background_fit(xs, *bkgr_min.args),'b--',  label = \"background_fit\")\n",
    "    \n",
    "    b1, b2, b3, b4 = bkgr_min.args\n",
    "    s1, s2, s3 = guesses_sig\n",
    "    \n",
    "    # Full fit\n",
    "    full_chi2 = Chi2Regression(full_fit, xs, vals, errs)\n",
    "    full_min  = Minuit(full_chi2, pedantic = False, a = b1, b = b2, c = b3, d = b4, \\\n",
    "                       mean = s1, sig = s2, size = s3)\n",
    "    \n",
    "    full_min.migrad()\n",
    "    \n",
    "    s1, s2, s3, b1, b2, b3, b4 = full_min.args\n",
    "    \n",
    "    ax_all.plot(xs, full_fit(xs, *full_min.args), \"k-\", label = \"full_fit\")\n",
    "    \n",
    "    ax_all.legend(loc = \"upper right\")\n",
    "    \n",
    "    # Details:\n",
    "    text = {'chi2': full_min.fval, \\\n",
    "            'pval': chi2.sf(full_min.fval, len(xs) - len(full_min.args)), \\\n",
    "            'mean': f\"{full_min.values['mean']:.1f} +/- {full_min.errors['mean']:.1f}\",\\\n",
    "            'N':    f\"{full_min.values['size']:.1f} +/- {full_min.errors['size']:.1f}\"}\n",
    "    \n",
    "    text_output = nice_string_output(text)\n",
    "    add_text_to_ax(0.60, 0.925, text_output, ax_all)\n",
    "    \n",
    "    \n",
    "    # Plot signal seperately\n",
    "    ax_sig.fill_between(xs, add_signal(xs, s1, s2, s3), color = 'red', alpha = 0.5, label = \"sig fit\")\n",
    "    \n",
    "    vals_sig = vals - background_fit(xs, b1, b2, b3, b4)\n",
    "    \n",
    "    ax_sig.plot(xs, vals_sig, 'r.')\n",
    "    ax_sig.errorbar(xs, vals_sig, errs, color = 'k', elinewidth = 1, capsize = 2, ls = 'none')\n",
    "    \n",
    "    sig_amount = np.sum(add_signal(xs, s1, s2, s3))\n",
    "    bak_amount = np.sum(background_fit(xs, b1, b2, b3, b4))\n",
    "    \n",
    "    text_a = {'sig': np.round(sig_amount), \\\n",
    "              'bkgr': np.round(bak_amount), \\\n",
    "              's/b': sig_amount / bak_amount}\n",
    "    \n",
    "    text_output = nice_string_output(text_a, decimals = 2)\n",
    "    add_text_to_ax(0.70, 0.90, text_output, ax_sig)\n",
    "    \n",
    "    fig.tight_layout()\n",
    "    \n",
    "    bak_func = lambda x: background_fit(x, b1, b2, b3, b4)\n",
    "    sig_func = lambda x: add_signal(x, s1, s2, s3)\n",
    "        \n",
    "    return fig, ax, full_min, bak_func, sig_func, [s1, s2, s3, b1, b2, b3, b4]"
   ]
  },
  {
   "cell_type": "code",
   "execution_count": null,
   "metadata": {
    "ExecuteTime": {
     "end_time": "2020-09-16T14:06:30.652219Z",
     "start_time": "2020-09-16T14:06:30.399855Z"
    }
   },
   "outputs": [],
   "source": [
    "df = data_tree.pandas.df(load_variables, entrystop = 10**5)"
   ]
  },
  {
   "cell_type": "code",
   "execution_count": null,
   "metadata": {
    "ExecuteTime": {
     "end_time": "2020-09-16T14:06:30.670863Z",
     "start_time": "2020-09-16T14:06:30.654620Z"
    }
   },
   "outputs": [],
   "source": [
    "mass = df.v0_ks_mass\n",
    "dfs = [df.loc[:, params] for params in params_list]"
   ]
  },
  {
   "cell_type": "code",
   "execution_count": null,
   "metadata": {
    "ExecuteTime": {
     "end_time": "2020-09-16T14:06:31.196101Z",
     "start_time": "2020-09-16T14:06:30.674297Z"
    }
   },
   "outputs": [],
   "source": [
    "rang = (400, 600)\n",
    "bins = 50\n",
    "\n",
    "vals, edges = np.histogram(mass, range = rang, bins = bins)\n",
    "xs = (edges[1:] + edges[:-1])/2\n",
    "\n",
    "vals = vals[vals > 0]\n",
    "xs = xs[vals > 0]\n",
    "\n",
    "\n",
    "fig_cuts, ax_cuts, min_obj, bak, sig, varis = fit_data(xs, vals, np.sqrt(vals))"
   ]
  },
  {
   "cell_type": "code",
   "execution_count": null,
   "metadata": {
    "ExecuteTime": {
     "end_time": "2020-09-16T14:06:31.227878Z",
     "start_time": "2020-09-16T14:06:31.200995Z"
    }
   },
   "outputs": [],
   "source": [
    "# Apply range\n",
    "mass = mass[(mass > 400) & (mass < 600)]\n",
    "\n",
    "# Take pseudo_true_sample\n",
    "mean, sig = varis[0], varis[1]\n",
    "pseudo_true = mass[abs(mass - mean) <  sig]\n",
    "\n",
    "am = len(pseudo_true)\n",
    "\n",
    "# True false\n",
    "low_false = mass[mass  + 3 * sig < mean].sample(am)\n",
    "high_false = mass[mass - 3 * sig > mean].sample(am)\n",
    "\n",
    "# Make df\n",
    "indicies = pd.concat([pseudo_true, low_false, high_false]).index\n",
    "\n",
    "target = pd.Series(np.zeros(len(indicies), dtype = int), indicies, dtype = bool)\n",
    "target.loc[pseudo_true.index] = 1\n",
    "\n"
   ]
  },
  {
   "cell_type": "code",
   "execution_count": null,
   "metadata": {
    "ExecuteTime": {
     "end_time": "2020-09-16T14:06:36.712094Z",
     "start_time": "2020-09-16T14:06:31.230480Z"
    }
   },
   "outputs": [],
   "source": [
    "from xgboost import XGBClassifier\n",
    "models = []\n",
    "for df in dfs:\n",
    "    model = XGBClassifier()\n",
    "    model.fit(df.loc[target.index, :], target)\n",
    "    models.append(model)"
   ]
  },
  {
   "cell_type": "code",
   "execution_count": null,
   "metadata": {
    "ExecuteTime": {
     "end_time": "2020-09-16T14:06:37.755319Z",
     "start_time": "2020-09-16T14:06:36.714158Z"
    }
   },
   "outputs": [],
   "source": [
    "probs = []\n",
    "test_set = data_tree.pandas.df(load_variables, entrystart = 10**5, entrystop = 2 * 10 ** 5)\n",
    "for model, params in zip(models, params_list):\n",
    "    probs.append(model.predict_proba(test_set.loc[:, params])[:, 1])"
   ]
  },
  {
   "cell_type": "code",
   "execution_count": null,
   "metadata": {
    "ExecuteTime": {
     "end_time": "2020-09-16T14:06:38.001202Z",
     "start_time": "2020-09-16T14:06:37.757512Z"
    }
   },
   "outputs": [],
   "source": [
    "fig_probs, ax_probs = plt.subplots(figsize = (12, 8))\n",
    "\n",
    "from scipy.special import logit\n",
    "\n",
    "\n",
    "for prob in probs:\n",
    "    ax_probs.hist(logit(prob), bins = 50, histtype = \"step\")"
   ]
  },
  {
   "cell_type": "code",
   "execution_count": null,
   "metadata": {
    "ExecuteTime": {
     "end_time": "2020-09-16T14:16:24.307449Z",
     "start_time": "2020-09-16T14:16:19.904796Z"
    }
   },
   "outputs": [],
   "source": [
    "mass = test_set.loc[:, 'v0_ks_mass']\n",
    "for model, params in zip(models, params_list):\n",
    "    true = mass[model.predict(test_set.loc[:, params]) == 1]\n",
    "    rang = (400, 600)\n",
    "    bins = 50\n",
    "\n",
    "    vals, edges = np.histogram(true, range = rang, bins = bins)\n",
    "    xs = (edges[1:] + edges[:-1])/2\n",
    "    \n",
    "    mask = vals > 0\n",
    "    \n",
    "    vals = vals[mask]\n",
    "    xs = xs[mask]\n",
    "\n",
    "    fit_data(xs, vals, np.sqrt(vals));"
   ]
  },
  {
   "cell_type": "code",
   "execution_count": null,
   "metadata": {
    "ExecuteTime": {
     "end_time": "2020-09-16T14:16:24.317808Z",
     "start_time": "2020-09-16T14:16:24.313554Z"
    }
   },
   "outputs": [],
   "source": [
    "from importlib import reload\n",
    "import py_files.functions as own"
   ]
  },
  {
   "cell_type": "code",
   "execution_count": null,
   "metadata": {
    "ExecuteTime": {
     "end_time": "2020-09-16T15:12:59.841639Z",
     "start_time": "2020-09-16T15:11:20.864391Z"
    }
   },
   "outputs": [],
   "source": [
    "reload(own)\n",
    "from sklearn.metrics import roc_curve, auc\n",
    "\n",
    "fig, ax = plt.subplots(figsize = (20, 7), ncols = len(probs), nrows = 2)\n",
    "ax = ax.flatten()\n",
    "for ax_n, prob in enumerate(probs):\n",
    "    print(params_list[ax_n])\n",
    "    own.roc_curve_data(mass, prob, Npoints = 10, ax_fits = ax[ax_n + len(probs)], ax_roc = ax[ax_n], verbose = False, plimit = 0.001)\n",
    "#     x, y, _ = roc_curve(label.astype(bool), 1 -  prob)\n",
    "#     print(auc(x, y))\n",
    "#     ax[ax_n].plot(x, y)"
   ]
  },
  {
   "cell_type": "code",
   "execution_count": null,
   "metadata": {},
   "outputs": [],
   "source": [
    "ML_corr = squareform(mp.pstats(pd.DataFrame(np.array(logit(probs))).loc[:, :1000])[0])"
   ]
  },
  {
   "cell_type": "code",
   "execution_count": null,
   "metadata": {
    "ExecuteTime": {
     "end_time": "2020-09-16T14:20:30.030704Z",
     "start_time": "2020-09-16T14:20:29.653102Z"
    }
   },
   "outputs": [],
   "source": [
    "### from scipy.special import logit\n",
    "fig, ax = plt.subplots(figsize = (12, 8))\n",
    "\n",
    "\n",
    "\n",
    "\n",
    "show = ax.imshow(abs(ML_corr))\n",
    "\n",
    "tick_labels = [\"ML\" + str(1 + i) for i in range(ML_corr.shape[0])]\n",
    "\n",
    "ax.set_xticks(np.arange(ML_corr.shape[0]))\n",
    "ax.set_xticklabels(tick_labels, rotation = 90)\n",
    "ax.set_yticks(np.arange(ML_corr.shape[0]))\n",
    "ax.set_yticklabels(tick_labels)\n",
    "ax.tick_params(axis = 'x', bottom = False, top = True, labelbottom = False, labeltop = True)\n",
    "\n",
    "fig.colorbar(show)\n",
    "\n",
    "for i in range(ML_corr.shape[0]):\n",
    "    for j in range(ML_corr.shape[0]):\n",
    "        text = ax.text(j, i, np.round(np.array(ML_corr)[i, j], 2),\n",
    "                       ha=\"center\", va=\"center\", color=\"w\")"
   ]
  },
  {
   "cell_type": "code",
   "execution_count": null,
   "metadata": {},
   "outputs": [],
   "source": [
    "from seaborn import pairplot\n",
    "pairplot(pd.DataFrame(np.array((probs)).T[:1000, :]))"
   ]
  },
  {
   "cell_type": "code",
   "execution_count": null,
   "metadata": {},
   "outputs": [],
   "source": []
  },
  {
   "cell_type": "code",
   "execution_count": null,
   "metadata": {},
   "outputs": [],
   "source": []
  },
  {
   "cell_type": "code",
   "execution_count": null,
   "metadata": {},
   "outputs": [],
   "source": []
  },
  {
   "cell_type": "code",
   "execution_count": null,
   "metadata": {},
   "outputs": [],
   "source": []
  },
  {
   "cell_type": "code",
   "execution_count": null,
   "metadata": {},
   "outputs": [],
   "source": []
  },
  {
   "cell_type": "code",
   "execution_count": null,
   "metadata": {},
   "outputs": [],
   "source": []
  },
  {
   "cell_type": "code",
   "execution_count": null,
   "metadata": {},
   "outputs": [],
   "source": []
  },
  {
   "cell_type": "code",
   "execution_count": null,
   "metadata": {},
   "outputs": [],
   "source": []
  }
 ],
 "metadata": {
  "kernelspec": {
   "display_name": "Python 3",
   "language": "python",
   "name": "python3"
  },
  "language_info": {
   "codemirror_mode": {
    "name": "ipython",
    "version": 3
   },
   "file_extension": ".py",
   "mimetype": "text/x-python",
   "name": "python",
   "nbconvert_exporter": "python",
   "pygments_lexer": "ipython3",
   "version": "3.7.4"
  },
  "latex_envs": {
   "LaTeX_envs_menu_present": true,
   "autoclose": false,
   "autocomplete": true,
   "bibliofile": "biblio.bib",
   "cite_by": "apalike",
   "current_citInitial": 1,
   "eqLabelWithNumbers": true,
   "eqNumInitial": 1,
   "hotkeys": {
    "equation": "Ctrl-E",
    "itemize": "Ctrl-I"
   },
   "labels_anchors": false,
   "latex_user_defs": false,
   "report_style_numbering": false,
   "user_envs_cfg": false
  },
  "toc": {
   "base_numbering": 1,
   "nav_menu": {},
   "number_sections": true,
   "sideBar": true,
   "skip_h1_title": true,
   "title_cell": "Indholdsfortegnelse",
   "title_sidebar": "Contents",
   "toc_cell": true,
   "toc_position": {},
   "toc_section_display": true,
   "toc_window_display": true
  }
 },
 "nbformat": 4,
 "nbformat_minor": 4
}
