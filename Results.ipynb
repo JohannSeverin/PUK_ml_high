{
 "cells": [
  {
   "cell_type": "code",
   "execution_count": 1,
   "metadata": {},
   "outputs": [],
   "source": [
    "import numpy as np\n",
    "import matplotlib.pyplot as plt\n",
    "import pandas as pd\n",
    "import uproot, os, pickle\n",
    "from sklearn.tree import DecisionTreeClassifier as DT\n",
    "from sklearn.tree import plot_tree"
   ]
  },
  {
   "cell_type": "code",
   "execution_count": 2,
   "metadata": {},
   "outputs": [],
   "source": [
    "file = uproot.open(\"../Data/mc15_13TeV.361203.Pythia8_A2_MSTW2008LO_ND_minbias.30062015_v0_per_0.root\")\n",
    "tree = file['tree']\n",
    "ML1 = \"v0_chi2 v0_px1 v0_phi1 v0_py1 v0_py v0_py2 v0_phi2 v0_px2 v0_px\".split(\" \")\n",
    "ML2 = \"cosTheta a0xy a0 v0_y v0_x v0_rxyErr v0_rxy v0_z pv0_z pv0_y ntrk_pv0 pv0_x trueKs\".split(\" \")\n",
    "features = ML1 + ML2\n",
    "df = tree.pandas.df(features, entrystop = 3 * 10 ** 6)\n",
    "df_label = df['trueKs']\n",
    "df.drop('trueKs', axis = 1, inplace = True)"
   ]
  },
  {
   "cell_type": "code",
   "execution_count": 3,
   "metadata": {},
   "outputs": [],
   "source": [
    "from sklearn.model_selection import train_test_split\n",
    "test_ratio = 0.2\n",
    "df_train, df_test, label_train, label_test = train_test_split(df, df_label, test_size = test_ratio)"
   ]
  },
  {
   "cell_type": "code",
   "execution_count": 4,
   "metadata": {},
   "outputs": [],
   "source": [
    "from scipy.optimize import minimize\n",
    "class fisher():\n",
    "\n",
    "    def predict(self,x):\n",
    "        proj = x@self.w\n",
    "        return np.where(proj<self.cut,1,0)\n",
    "    \n",
    "    def predict_proba(self, x):\n",
    "        return x @self.w\n",
    "        \n",
    "    def fit(self,x,y):\n",
    "        self.w = np.linalg.inv(x[y==0].cov() + x[y==1].cov())@(x[y==0].mean(axis=0) - x[y==1].mean(axis=0))\n",
    "        proj = x@self.w\n",
    "        def gini(cut):\n",
    "            if (proj<cut[0]).sum() != 0:\n",
    "                p1 = (y[proj<cut[0]] == 1).sum()/(proj<cut[0]).sum()\n",
    "            else:\n",
    "                p1 = 0\n",
    "            if (proj>=cut[0]).sum() != 0:\n",
    "                p2 = (y[proj>=cut[0]] == 1).sum()/(proj>=cut[0]).sum()\n",
    "            else:\n",
    "                p2 = 0\n",
    "#             print(cut[0],2*p1*(1-p1) + 2*p2*(1-p2))\n",
    "            return -((proj<cut[0]).sum()*2*p1*(1-p1) + (proj>=cut[0]).sum()*2*p2*(1-p2))/len(proj)\n",
    "        m = minimize(gini,[-2],options={'eps':0.005})\n",
    "        self.cut = m.x"
   ]
  },
  {
   "cell_type": "code",
   "execution_count": 5,
   "metadata": {},
   "outputs": [],
   "source": [
    "class cla_cuts():\n",
    "    def predict(self, df):\n",
    "        return ((df['cosTheta'] > 0.9875)&(df['v0_chi2'] < 10.617)&(df['v0_rxy'] < 442.2810) == 1).astype(int)"
   ]
  },
  {
   "cell_type": "code",
   "execution_count": 6,
   "metadata": {},
   "outputs": [],
   "source": [
    "import time\n",
    "start = time.time()\n",
    "\n",
    "fisc = fisher()\n",
    "print(\"fisc: \" time.time() - start)\n",
    "start = time.time()\n",
    "cutt = cla_cuts()\n",
    "start = time.time()\n",
    "tree = DT(max_depth = 10)\n",
    "print(\"Tree: \" time-time() - start)"
   ]
  },
  {
   "cell_type": "code",
   "execution_count": 7,
   "metadata": {},
   "outputs": [],
   "source": [
    "fisc.fit(df_train, label_train)"
   ]
  },
  {
   "cell_type": "code",
   "execution_count": 8,
   "metadata": {},
   "outputs": [
    {
     "data": {
      "text/plain": [
       "DecisionTreeClassifier(ccp_alpha=0.0, class_weight=None, criterion='gini',\n",
       "                       max_depth=10, max_features=None, max_leaf_nodes=None,\n",
       "                       min_impurity_decrease=0.0, min_impurity_split=None,\n",
       "                       min_samples_leaf=1, min_samples_split=2,\n",
       "                       min_weight_fraction_leaf=0.0, presort='deprecated',\n",
       "                       random_state=None, splitter='best')"
      ]
     },
     "execution_count": 8,
     "metadata": {},
     "output_type": "execute_result"
    }
   ],
   "source": [
    "tree.fit(df_train, label_train)"
   ]
  },
  {
   "cell_type": "code",
   "execution_count": 9,
   "metadata": {},
   "outputs": [],
   "source": [
    "fisc_score = fisc.predict_proba(df_test)\n",
    "tree_score = tree.predict_proba(df_test)\n",
    "cutt_score = cutt.predict(df_test)"
   ]
  },
  {
   "cell_type": "code",
   "execution_count": 28,
   "metadata": {},
   "outputs": [
    {
     "data": {
      "image/png": "[encoded data removed]",
      "text/plain": [
       "<Figure size 432x432 with 1 Axes>"
      ]
     },
     "metadata": {
      "needs_background": "light"
     },
     "output_type": "display_data"
    }
   ],
   "source": [
    "fig, ax = plt.subplots(figsize = (6, 6))\n",
    "ax.set(title = \"Baseline ROC_curves\", xlabel = \"FPR\", ylabel = \"TPR\")\n",
    "\n",
    "# Fisc\n",
    "from sklearn.metrics import roc_curve, roc_auc_score\n",
    "x, y, _ = roc_curve(label_test, - fisc_score)\n",
    "fisc_auc = roc_auc_score(label_test, - fisc_score)\n",
    "ax.plot(x, y, label = \"Fischer\")\n",
    "\n",
    "\n",
    "x, y, _ = roc_curve(label_test, tree_score[:, 1])\n",
    "tree_auc = roc_auc_score(label_test, tree_score[:, 1])\n",
    "ax.plot(x, y, label = \"Decision Tree\")\n",
    "\n",
    "\n",
    "x, y, _ = roc_curve(label_test, cutt_score == 1)\n",
    "ax.plot(x, y, label = \"Simple cuts\")\n",
    "cutt_auc = roc_auc_score(label_test, cutt_score == 1)\n",
    "\n",
    "import sys \n",
    "sys.path.append(\"py_files/\")\n",
    "from ExternalFunctions import nice_string_output, add_text_to_ax\n",
    "\n",
    "d = {\"Fischer\": fisc_auc, \\\n",
    "     \"DT\":      tree_auc, \\\n",
    "     \"Cuts\":    cutt_auc}\n",
    "\n",
    "add_text_to_ax(0.55, 0.9, nice_string_output(d), ax)\n",
    "\n",
    "ax.vlines([0,1], 0, 1, ls = '--', color = \"gray\", zorder = -1)\n",
    "ax.hlines([0,1], 0, 1, ls = '--', color = \"gray\", zorder = -1)\n",
    "\n",
    "ax.legend(loc = \"lower right\")\n",
    "\n",
    "\n",
    "fig.savefig(\"figures/roc_baseline.pdf\")"
   ]
  },
  {
   "cell_type": "code",
   "execution_count": null,
   "metadata": {},
   "outputs": [],
   "source": []
  }
 ],
 "metadata": {
  "kernelspec": {
   "display_name": "Python 3",
   "language": "python",
   "name": "python3"
  },
  "language_info": {
   "codemirror_mode": {
    "name": "ipython",
    "version": 3
   },
   "file_extension": ".py",
   "mimetype": "text/x-python",
   "name": "python",
   "nbconvert_exporter": "python",
   "pygments_lexer": "ipython3",
   "version": "3.7.6"
  }
 },
 "nbformat": 4,
 "nbformat_minor": 4
}
