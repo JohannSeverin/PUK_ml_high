{
 "cells": [
  {
   "cell_type": "code",
   "execution_count": 41,
   "metadata": {},
   "outputs": [],
   "source": [
    "import minepy\n",
    "import numpy as np\n",
    "import matplotlib.pyplot as plt\n",
    "import pandas as pd\n",
    "import uproot, os, sys\n",
    "\n",
    "from iminuit import Minuit\n"
   ]
  },
  {
   "cell_type": "code",
   "execution_count": 42,
   "metadata": {},
   "outputs": [],
   "source": [
    "data_path = \"../../Data/mc15_13TeV.361203.Pythia8_A2_MSTW2008LO_ND_minbias.30062015_v0_per_0.root\"\n",
    "data_file = uproot.open(data_path)\n",
    "data_tree = data_file['tree']\n",
    "\n",
    "features = data_tree.keys(data_tree.keys()[:60])\n",
    "features.remove(b\"v0_ks_mass\")\n",
    "\n",
    "N_data = 1500\n",
    "df = data_tree.pandas.df(features, entrystop = N_data)\n",
    "mass = data_tree.pandas.df(b\"v0_lb_mass\", entrystop = N_data)"
   ]
  },
  {
   "cell_type": "code",
   "execution_count": 43,
   "metadata": {},
   "outputs": [],
   "source": [
    "mics_mc = {}\n",
    "pear_mc = {}\n",
    "\n",
    "for col in df.columns:\n",
    "    mine = minepy.MINE()\n",
    "    mine.compute_score(mass.values.flatten(), df[col].values.flatten())\n",
    "#     print(f\"{col}: {mine.mic():.3f}\")\n",
    "    mics_mc[col] = mine.mic()\n",
    "    pear_mc[col] = np.corrcoef(mass.values.flatten(), df[col].values.flatten())[0, 1]"
   ]
  },
  {
   "cell_type": "code",
   "execution_count": 74,
   "metadata": {},
   "outputs": [
    {
     "data": {
      "text/plain": [
       "{'v0_lb_mass': (1.0000000000000007, 1.0),\n",
       " 'thetastar': (0.7224409350263119, -0.7387120157620005),\n",
       " 'alpha': (0.7175235020321901, 0.5050333837131618),\n",
       " 'Alpha': (0.7175235020321901, 0.5050334423619146),\n",
       " 'pL1': (0.5246865319094989, 0.7751480644019791),\n",
       " 'v0_p1': (0.5227745134506463, 0.7751800484160628),\n",
       " 'v0_qOverP1': (0.5227745134506463, -0.5484064445970495),\n",
       " 'v0_la_mass': (0.415760031753441, -0.3798986030407201),\n",
       " 'v0_pt1': (0.39746362258205054, 0.6621376814805059),\n",
       " 'v0_pz1': (0.36928113098110193, 0.019690056773212478),\n",
       " 'v0_lb_massErr': (0.354375724502469, 0.6839971486222037),\n",
       " 'v0_ptErr': (0.33890772422362053, 0.626782389926985),\n",
       " 'epsilon2': (0.3280607861079011, -0.3385838912408349),\n",
       " 'pT': (0.300938550769621, 0.07512865014047945),\n",
       " 'v0_px1': (0.2922346314369303, -0.033547218673180314),\n",
       " 'v0_py1': (0.25491182957114167, 0.05479779713014855),\n",
       " 'v0_p': (0.2403119501243483, 0.339364206691498),\n",
       " 'numberOfSCTHits1': (0.20033257781965402, 0.23955376789076546),\n",
       " 'v0_la_massErr': (0.20000880045597802, -0.21468197932221786),\n",
       " 'epsilon1': (0.19414080572631526, 0.07197218289506925),\n",
       " 'pL2': (0.18410080239597304, -0.19726979383473472),\n",
       " 'v0_p2': (0.17608340127199, -0.19525505224853873),\n",
       " 'v0_qOverP2': (0.17608340127199, -0.18961365041408576),\n",
       " 'v0_theta1': (0.1725616913730231, 0.005312642706479684),\n",
       " 'v0_theta2': (0.1725616913730231, 0.005312642706479684),\n",
       " 'calpha': (0.17237978623288236, 0.15737999299705158),\n",
       " 'v0_pt2': (0.16657984247460972, -0.2072582436142552),\n",
       " 'v0_pt': (0.16487202884940366, 0.2029147932908283),\n",
       " 'numberOfNextToInnermostPixelLayerHits1': (0.1630302571318235,\n",
       "  -0.11671334120350427),\n",
       " 'rapidity_la': (0.16037035620293577, 0.012684221658880612),\n",
       " 'v0_pz2': (0.1576686598496794, -0.011451460899627222),\n",
       " 'v0_px2': (0.15082060527929023, -0.04182240490337513),\n",
       " 'v0_pz': (0.14996002103701378, 0.0039042706348609048),\n",
       " 'v0_py2': (0.14289283564459973, -0.018913303900031146),\n",
       " 'v0_ks_massErr': (0.14227859238222856, 0.22483124351830533),\n",
       " 'numberOfPixelHits1': (0.1411319871050398, -0.1069966131236545),\n",
       " 'numberOfBLayerHits1': (0.13858403031831615, -0.07389886156112566),\n",
       " 'numberOfInnermostPixelLayerHits1': (0.13858403031831615,\n",
       "  -0.07389886156112566),\n",
       " 'v0_phi1': (0.13252158906387057, -0.0003651805119902903),\n",
       " 'v0_py': (0.13131758161031606, 0.016070077502193393),\n",
       " 'a0': (0.12995585219987496, -0.015075702616014033),\n",
       " 'a0z': (0.12995585219987496, -0.015075702616014033),\n",
       " 'rapidity_ks': (0.12925099737778417, 0.001240190190432014),\n",
       " 'a0xy': (0.1289974225078131, 0.0021741670803652625),\n",
       " 'v0_px': (0.1285820991219097, -0.04611233978535889),\n",
       " 'rapidity_lb': (0.12664418023908278, 0.00555115699755162),\n",
       " 'expectNextToInnermostPixelLayerHit1': (0.12641936042377763,\n",
       "  -0.124727792063977),\n",
       " 'pseudorapidity': (0.1250320970604042, -0.007888933981543337),\n",
       " 'v0_phi2': (0.12490712411527487, 0.07083294580629225),\n",
       " 'v0_rxy': (0.12379615224973681, -0.005970318852797216),\n",
       " 'v0_y': (0.1223506838089992, -0.0354458207467614),\n",
       " 'pv0_z': (0.12207280911360886, 0.050098271406769375),\n",
       " 'v0_z': (0.12062312419712408, 0.027222573761160537),\n",
       " 'cosTheta': (0.11939663929976575, 0.004896074495913898),\n",
       " 'numberOfSCTHits2': (0.1176895007078541, -0.040275763778480585),\n",
       " 'expectBLayerHit1': (0.11708091631651289, -0.12656859965756465),\n",
       " 'expectInnermostPixelLayerHit1': (0.11708091631651289, -0.12656859965756465),\n",
       " 'pv0_x': (0.11663887616713765, 0.021641671575632248),\n",
       " 'numberOfBLayerHits2': (0.11586944093000758, -0.0031323386534063222),\n",
       " 'numberOfInnermostPixelLayerHits2': (0.11586944093000758,\n",
       "  -0.0031323386534063222),\n",
       " 'v0_chi2': (0.11583065983081624, 0.05538292264610974),\n",
       " 'pv0_y': (0.11538620240215812, -0.03622454457032113),\n",
       " 'v0_rxyErr': (0.1152852704343555, -0.006322351059491076),\n",
       " 'v0_x': (0.11497978831836356, 0.03662512910108547),\n",
       " 'ntrk_pv0': (0.1132370056494099, -0.008161238257002894),\n",
       " 'numberOfPixelDeadSensors1': (0.11313104202885581, 0.06106886398098912),\n",
       " 'numberOfPixelHoles1': (0.1126248548328459, -0.0678311224726836),\n",
       " 'numberOfSCTHoles1': (0.11250377990678358, 0.09993323197880151),\n",
       " 'numberOfNextToInnermostPixelLayerHits2': (0.11211041290021508,\n",
       "  0.0016043039524991603),\n",
       " 'numberOfPixelHits2': (0.11150210216086835, 0.00991732596896491),\n",
       " 'eventCounter': (0.10612361292438212, 0.03678691287706088),\n",
       " 'expectBLayerHit2': (0.10579565412407083, 0.07168973997772728),\n",
       " 'expectInnermostPixelLayerHit2': (0.10579565412407083, 0.07168973997772728),\n",
       " 'numberOfPixelSharedHits1': (0.1051121250210627, -0.016677099480385107),\n",
       " 'numberOfPixelDeadSensors2': (0.10509230340187058, 0.007223463417779345),\n",
       " 'numberOfPixelSharedHits2': (0.10496462466830707, -0.0059495020547154056),\n",
       " 'trueKs': (0.10472793044601172, 0.0008765424197999964),\n",
       " 'trueKs_x': (0.10472793044601172, 0.0008759661615211799),\n",
       " 'trueKs_y': (0.10472793044601172, 0.0008775263112893337),\n",
       " 'trueKs_z': (0.10472793044601172, 0.0008837074756933224),\n",
       " 'trueGa': (0.10446932049146748, -0.018947658087732994),\n",
       " 'trueGa_x': (0.10446932049146748, -0.018947975588441565),\n",
       " 'trueGa_y': (0.10446932049146748, -0.01894997516822604),\n",
       " 'trueGa_z': (0.10446932049146748, -0.018946826085487457),\n",
       " 'numberOfPixelHoles2': (0.10405361349952943, 0.05298994937848738),\n",
       " 'numberOfSCTSharedHits1': (0.10327527170522403, -0.022696142342995485),\n",
       " 'numberOfSCTHoles2': (0.1020953969833103, 0.02805061233726772),\n",
       " 'numberOfSCTDeadSensors2': (0.10075141381789131, 0.021455810946409495),\n",
       " 'numberOfSCTDeadSensors1': (0.09986726610170182, 0.07671019785502707),\n",
       " 'numberOfSCTSharedHits2': (0.09663811338097812, 0.004588650671701178),\n",
       " 'expectNextToInnermostPixelLayerHit2': (0.09527900443882541,\n",
       "  0.0503586433183004),\n",
       " 'trueLb': (0.08518101277972848, -0.09633411059890121),\n",
       " 'trueLb_x': (0.08518101277972848, -0.09633409686875916),\n",
       " 'trueLb_y': (0.08518101277972848, -0.09633413116506169),\n",
       " 'trueLb_z': (0.08518101277972848, -0.09633410010799312),\n",
       " 'trueLa': (0.07634044397713612, 0.16208130354313552),\n",
       " 'trueLa_x': (0.07634044397713612, 0.1620810950132135),\n",
       " 'trueLa_y': (0.07634044397713612, 0.16208159752190543),\n",
       " 'trueLa_z': (0.07634044397713612, 0.1620814510672616),\n",
       " 'npv': (0.0625438538807381, -0.011581184394484996),\n",
       " 'numberOfTRTHits1': (0.0, nan),\n",
       " 'numberOfTRTHighThresholdHits1': (0.0, nan),\n",
       " 'numberOfTRTHits2': (0.0, nan),\n",
       " 'numberOfTRTHighThresholdHits2': (0.0, nan),\n",
       " 'numberOfContribPixelLayers1': (0.0, nan),\n",
       " 'numberOfBLayerOutliers1': (0.0, nan),\n",
       " 'numberOfBLayerSharedHits1': (0.0, nan),\n",
       " 'numberOfBLayerSplitHits1': (0.0, nan),\n",
       " 'numberOfInnermostPixelLayerOutliers1': (0.0, nan),\n",
       " 'numberOfInnermostPixelLayerSharedHits1': (0.0, nan),\n",
       " 'numberOfInnermostPixelLayerSplitHits1': (0.0, nan),\n",
       " 'numberOfNextToInnermostPixelLayerOutliers1': (0.0, nan),\n",
       " 'numberOfNextToInnermostPixelLayerSharedHits1': (0.0, nan),\n",
       " 'numberOfNextToInnermostPixelLayerSplitHits1': (0.0, nan),\n",
       " 'numberOfPixelOutliers1': (0.0, nan),\n",
       " 'numberOfPixelSplitHits1': (0.0, nan),\n",
       " 'numberOfGangedPixels1': (0.0, nan),\n",
       " 'numberOfGangedFlaggedFakes1': (0.0, nan),\n",
       " 'numberOfPixelSpoiltHits1': (0.0, nan),\n",
       " 'numberOfSCTOutliers1': (0.0, nan),\n",
       " 'numberOfSCTDoubleHoles1': (0.0, nan),\n",
       " 'numberOfSCTSpoiltHits1': (0.0, nan),\n",
       " 'numberOfTRTOutliers1': (0.0, nan),\n",
       " 'numberOfTRTHoles1': (0.0, nan),\n",
       " 'numberOfTRTHighThresholdOutliers1': (0.0, nan),\n",
       " 'numberOfTRTDeadStraws1': (0.0, nan),\n",
       " 'numberOfTRTTubeHits1': (0.0, nan),\n",
       " 'numberOfTRTXenonHits1': (0.0, nan),\n",
       " 'numberOfTRTSharedHits1': (0.0, nan),\n",
       " 'numberOfContribPixelLayers2': (0.0, nan),\n",
       " 'numberOfBLayerOutliers2': (0.0, nan),\n",
       " 'numberOfBLayerSharedHits2': (0.0, nan),\n",
       " 'numberOfBLayerSplitHits2': (0.0, nan),\n",
       " 'numberOfInnermostPixelLayerOutliers2': (0.0, nan),\n",
       " 'numberOfInnermostPixelLayerSharedHits2': (0.0, nan),\n",
       " 'numberOfInnermostPixelLayerSplitHits2': (0.0, nan),\n",
       " 'numberOfNextToInnermostPixelLayerOutliers2': (0.0, nan),\n",
       " 'numberOfNextToInnermostPixelLayerSharedHits2': (0.0, nan),\n",
       " 'numberOfNextToInnermostPixelLayerSplitHits2': (0.0, nan),\n",
       " 'numberOfPixelOutliers2': (0.0, nan),\n",
       " 'numberOfPixelSplitHits2': (0.0, nan),\n",
       " 'numberOfGangedPixels2': (0.0, nan),\n",
       " 'numberOfGangedFlaggedFakes2': (0.0, nan),\n",
       " 'numberOfPixelSpoiltHits2': (0.0, nan),\n",
       " 'numberOfSCTOutliers2': (0.0, nan),\n",
       " 'numberOfSCTDoubleHoles2': (0.0, nan),\n",
       " 'numberOfSCTSpoiltHits2': (0.0, nan),\n",
       " 'numberOfTRTOutliers2': (0.0, nan),\n",
       " 'numberOfTRTHoles2': (0.0, nan),\n",
       " 'numberOfTRTHighThresholdOutliers2': (0.0, nan),\n",
       " 'numberOfTRTDeadStraws2': (0.0, nan),\n",
       " 'numberOfTRTTubeHits2': (0.0, nan),\n",
       " 'numberOfTRTXenonHits2': (0.0, nan),\n",
       " 'numberOfTRTSharedHits2': (0.0, nan)}"
      ]
     },
     "execution_count": 74,
     "metadata": {},
     "output_type": "execute_result"
    }
   ],
   "source": [
    "{k: (v, pear_mc[k]) for k, v in sorted(mics_mc.items(), key=lambda item: item[1], reverse = True)[:]}"
   ]
  },
  {
   "cell_type": "code",
   "execution_count": 67,
   "metadata": {},
   "outputs": [],
   "source": [
    "data_path = \"../../Data/data15_13TeV.00267358.physics_MinBias.30062015_v0_per_0.root\"\n",
    "data_file = uproot.open(data_path)\n",
    "data_tree = data_file['tree']\n",
    "\n",
    "features = data_tree.keys()[:60]\n",
    "features.remove(b\"v0_ks_mass\")\n",
    "\n",
    "N_data = 1500\n",
    "df = data_tree.pandas.df(features, entrystop = N_data)\n",
    "mass = data_tree.pandas.df(b\"v0_lb_mass\", entrystop = N_data)"
   ]
  },
  {
   "cell_type": "code",
   "execution_count": 68,
   "metadata": {},
   "outputs": [
    {
     "data": {
      "text/plain": [
       "[b'eventCounter',\n",
       " b'npv',\n",
       " b'ntrk_pv0',\n",
       " b'pv0_x',\n",
       " b'pv0_y',\n",
       " b'pv0_z',\n",
       " b'a0xy',\n",
       " b'a0',\n",
       " b'a0z',\n",
       " b'cosTheta',\n",
       " b'v0_chi2',\n",
       " b'v0_x',\n",
       " b'v0_y',\n",
       " b'v0_z',\n",
       " b'v0_rxy',\n",
       " b'v0_rxyErr',\n",
       " b'v0_px',\n",
       " b'v0_py',\n",
       " b'v0_pz',\n",
       " b'v0_pt',\n",
       " b'v0_p',\n",
       " b'v0_ptErr',\n",
       " b'v0_la_mass',\n",
       " b'v0_lb_mass',\n",
       " b'v0_ks_massErr',\n",
       " b'v0_la_massErr',\n",
       " b'v0_lb_massErr',\n",
       " b'v0_px1',\n",
       " b'v0_py1',\n",
       " b'v0_pz1',\n",
       " b'v0_pt1',\n",
       " b'v0_p1',\n",
       " b'v0_px2',\n",
       " b'v0_py2',\n",
       " b'v0_pz2',\n",
       " b'v0_pt2',\n",
       " b'v0_p2',\n",
       " b'v0_phi1',\n",
       " b'v0_theta1',\n",
       " b'v0_qOverP1',\n",
       " b'v0_phi2',\n",
       " b'v0_theta2',\n",
       " b'v0_qOverP2',\n",
       " b'alpha',\n",
       " b'calpha',\n",
       " b'epsilon1',\n",
       " b'epsilon2',\n",
       " b'Alpha',\n",
       " b'pL1',\n",
       " b'pL2',\n",
       " b'pT',\n",
       " b'thetastar',\n",
       " b'rapidity_ks',\n",
       " b'rapidity_la',\n",
       " b'rapidity_lb',\n",
       " b'pseudorapidity',\n",
       " b'numberOfPixelHits1',\n",
       " b'numberOfSCTHits1',\n",
       " b'numberOfTRTHits1']"
      ]
     },
     "execution_count": 68,
     "metadata": {},
     "output_type": "execute_result"
    }
   ],
   "source": [
    "features"
   ]
  },
  {
   "cell_type": "code",
   "execution_count": 69,
   "metadata": {},
   "outputs": [
    {
     "name": "stdout",
     "output_type": "stream",
     "text": [
      "0.12763997888359127\n"
     ]
    }
   ],
   "source": [
    "from scipy.special import logit\n",
    "logcos = df.cosTheta.apply(lambda x: logit((x + 1)/2))\n",
    "mine = minepy.MINE()\n",
    "mine.compute_score(mass.values.flatten(), logcos.values.flatten())\n",
    "print(mine.mic())"
   ]
  },
  {
   "cell_type": "code",
   "execution_count": null,
   "metadata": {},
   "outputs": [],
   "source": []
  },
  {
   "cell_type": "code",
   "execution_count": 70,
   "metadata": {},
   "outputs": [],
   "source": [
    "mics = {}\n",
    "pear = {}\n",
    "\n",
    "for col in df.columns:\n",
    "    mine = minepy.MINE()\n",
    "    mine.compute_score(mass.values.flatten(), df[col].values.flatten())\n",
    "#     print(f\"{col}: {mine.mic():.3f}\")\n",
    "    mics[col] = mine.mic()\n",
    "    pear[col] = np.corrcoef(mass.values.flatten(), df[col].values.flatten())[0, 1]"
   ]
  },
  {
   "cell_type": "code",
   "execution_count": 73,
   "metadata": {},
   "outputs": [
    {
     "data": {
      "text/plain": [
       "{'numberOfTRTHits1': (0.0, nan),\n",
       " 'npv': (0.08518101277972848, -0.008009706527973254),\n",
       " 'a0z': (0.10905987281123032, -0.013604449766461893),\n",
       " 'a0': (0.10905987281123032, -0.013604449766461893),\n",
       " 'pv0_y': (0.1094171896550262, -0.06364351074474851),\n",
       " 'v0_phi2': (0.1122088724231652, 0.02624341390181137),\n",
       " 'v0_chi2': (0.11564990437062683, 0.07029562444101749),\n",
       " 'numberOfPixelHits1': (0.11584491929064211, -0.11403740449947052),\n",
       " 'v0_x': (0.11675703391065997, 0.0031168011250534895),\n",
       " 'v0_py': (0.11790363815734023, 0.028644847154695386),\n",
       " 'rapidity_ks': (0.12270743725165824, 0.09032457699173246),\n",
       " 'a0xy': (0.12408092817883823, 0.0458325460444642),\n",
       " 'eventCounter': (0.12439002959653243, -0.03756268701564059),\n",
       " 'v0_px': (0.1246871759260402, -0.02388739682808197),\n",
       " 'v0_z': (0.12550751688061057, -0.03819397359261545),\n",
       " 'pseudorapidity': (0.12619305839361275, 0.08158584419163299),\n",
       " 'v0_rxy': (0.1262513368389334, 0.02910210732972933),\n",
       " 'v0_y': (0.12630823141441566, -0.01964545108321607),\n",
       " 'pv0_z': (0.12697147115399085, -0.06558569244572653),\n",
       " 'pv0_x': (0.1274365208486096, 0.039783045609084224),\n",
       " 'cosTheta': (0.12763997888359127, 0.006372510779760051),\n",
       " 'ntrk_pv0': (0.13089910262790447, 0.06468070711288378),\n",
       " 'v0_pz': (0.13451771977419627, 0.06335748335152112),\n",
       " 'v0_rxyErr': (0.13772046953089867, 0.0077160700023545985),\n",
       " 'v0_px2': (0.1379988919586802, 0.022470383805209142),\n",
       " 'rapidity_lb': (0.1386167285246941, 0.07573841728448316),\n",
       " 'v0_py2': (0.142464047997618, -0.027522145725030336),\n",
       " 'v0_phi1': (0.14536836714104065, -0.010317757803260023),\n",
       " 'v0_ks_massErr': (0.1468885309163188, 0.2469006081124866),\n",
       " 'calpha': (0.1651679224411514, 0.13986393580971432),\n",
       " 'numberOfSCTHits1': (0.17035536937192453, 0.24906511512975849),\n",
       " 'v0_pt2': (0.17247385280569133, -0.22474795427848746),\n",
       " 'pL2': (0.17335665498904634, -0.21495621081650373),\n",
       " 'v0_pz2': (0.1805742949889698, 0.006908359557370627),\n",
       " 'rapidity_la': (0.18366894742856182, 0.09076826959445289),\n",
       " 'v0_qOverP2': (0.18687065576220843, -0.198848788887538),\n",
       " 'v0_p2': (0.18687065576220843, -0.21154235828789686),\n",
       " 'epsilon1': (0.1918167198788665, 0.1302127343417138),\n",
       " 'v0_pt': (0.1932056273782174, 0.32011316910339954),\n",
       " 'v0_p': (0.20895130922528252, 0.4257386618202243),\n",
       " 'v0_theta2': (0.2097727767171303, -0.078338146309658),\n",
       " 'v0_theta1': (0.2097727767171303, -0.078338146309658),\n",
       " 'v0_la_massErr': (0.22053581825028118, -0.22742409232390673),\n",
       " 'v0_py1': (0.27271542038861096, 0.07729685400754562),\n",
       " 'v0_px1': (0.28530542687528165, -0.06036413822958023),\n",
       " 'epsilon2': (0.2897414458449385, -0.37911249054129237),\n",
       " 'pT': (0.3017859551465755, 0.12298834365035029),\n",
       " 'v0_ptErr': (0.3509387097293398, 0.5913752704846874),\n",
       " 'v0_pt1': (0.36873459779967965, 0.675999248225796),\n",
       " 'v0_lb_massErr': (0.4045964065453587, 0.6902285583288317),\n",
       " 'v0_la_mass': (0.40821337409328784, -0.40787879300637503),\n",
       " 'v0_pz1': (0.4114957284966688, 0.10204208745583655),\n",
       " 'pL1': (0.5269836871910321, 0.8141502372166418),\n",
       " 'v0_qOverP1': (0.5359164210779732, -0.545227989644958),\n",
       " 'v0_p1': (0.5359164210779732, 0.8156579917271403),\n",
       " 'Alpha': (0.6995507024342097, 0.6626079580639703),\n",
       " 'alpha': (0.6995507024342097, 0.6626079691378844),\n",
       " 'thetastar': (0.7185515577184088, -0.7383261519180635),\n",
       " 'v0_lb_mass': (1.0000000000000007, 1.0)}"
      ]
     },
     "execution_count": 73,
     "metadata": {},
     "output_type": "execute_result"
    }
   ],
   "source": [
    "{k: (v, pear[k]) for k, v in sorted(mics.items(), key=lambda item: item[1], reverse = True)[::-1]}"
   ]
  },
  {
   "cell_type": "code",
   "execution_count": 60,
   "metadata": {},
   "outputs": [],
   "source": [
    "pass"
   ]
  },
  {
   "cell_type": "code",
   "execution_count": 49,
   "metadata": {},
   "outputs": [],
   "source": [
    "features = \"pT v0_ks_massErr alpha calpha v0_rxyErr cosTheta pL1 v0_rxy thetastar\".split(\" \")"
   ]
  },
  {
   "cell_type": "code",
   "execution_count": 50,
   "metadata": {},
   "outputs": [],
   "source": [
    "Ndata = 10**6\n",
    "test_ratio = 0.2\n",
    "\n",
    "df = data_tree.pandas.df(features, entrystop = Ndata)\n",
    "\n",
    "mass = data_tree.pandas.df(\"v0_ks_mass\", entrystop = Ndata)\n",
    "\n",
    "from sklearn.model_selection import train_test_split\n",
    "df_train, df_test, mass_train, mass_test= train_test_split(df, mass, test_size = test_ratio)"
   ]
  },
  {
   "cell_type": "code",
   "execution_count": 51,
   "metadata": {},
   "outputs": [
    {
     "data": {
      "text/plain": [
       "XGBClassifier(base_score=0.5, booster=None, colsample_bylevel=1,\n",
       "              colsample_bynode=1, colsample_bytree=1, gamma=0, gpu_id=-1,\n",
       "              importance_type='gain', interaction_constraints=None,\n",
       "              learning_rate=0.300000012, max_delta_step=0, max_depth=6,\n",
       "              min_child_weight=1, missing=nan, monotone_constraints=None,\n",
       "              n_estimators=100, n_jobs=0, num_parallel_tree=1,\n",
       "              objective='binary:logistic', random_state=0, reg_alpha=0,\n",
       "              reg_lambda=1, scale_pos_weight=1, subsample=1, tree_method=None,\n",
       "              validate_parameters=False, verbosity=None)"
      ]
     },
     "execution_count": 51,
     "metadata": {},
     "output_type": "execute_result"
    }
   ],
   "source": [
    "mean, sig = 498.26, 7.005\n",
    "\n",
    "from xgboost import XGBClassifier as LGBMClassifier\n",
    "\n",
    "# Apply range\n",
    "mass = mass_train[(mass_train > 400) & (mass_train < 600)].dropna()\n",
    "\n",
    "pseudo_true = mass[abs(mass - mean) <  sig].dropna()\n",
    "\n",
    "am = len(pseudo_true)\n",
    "\n",
    "# True false\n",
    "low_false = mass[(mass  + 7 * sig < mean)|(mass  + 10 * sig > mean)].dropna().sample(am)\n",
    "high_false = mass[(mass  - 10 * sig > mean)|(mass  - 7 * sig < mean)].dropna().sample(am)\n",
    "\n",
    "# Make df\n",
    "indicies = pd.concat([pseudo_true, low_false, high_false]).index\n",
    "\n",
    "target = pd.Series(np.zeros(len(indicies), dtype = int), indicies, dtype = bool)\n",
    "target.loc[pseudo_true.index] = 1\n",
    "\n",
    "model = LGBMClassifier()\n",
    "model.fit(df_train.loc[target.index, :], target.astype(bool))"
   ]
  },
  {
   "cell_type": "code",
   "execution_count": 52,
   "metadata": {},
   "outputs": [
    {
     "data": {
      "text/plain": [
       "<module 'functions' from '../py_files/functions.py'>"
      ]
     },
     "execution_count": 52,
     "metadata": {},
     "output_type": "execute_result"
    }
   ],
   "source": [
    "import sys\n",
    "sys.path.append(\"../py_files\")\n",
    "import functions as f\n",
    "import importlib\n",
    "from ExternalFunctions import nice_string_output, add_text_to_ax\n",
    "\n",
    "importlib.reload(f)"
   ]
  },
  {
   "cell_type": "code",
   "execution_count": 63,
   "metadata": {},
   "outputs": [
    {
     "data": {
      "text/plain": [
       "Index(['eventCounter', 'npv', 'ntrk_pv0', 'pv0_x', 'pv0_y', 'pv0_z', 'a0xy',\n",
       "       'a0', 'a0z', 'cosTheta',\n",
       "       ...\n",
       "       'numberOfSCTSharedHits2', 'numberOfSCTDeadSensors2',\n",
       "       'numberOfSCTSpoiltHits2', 'numberOfTRTOutliers2', 'numberOfTRTHoles2',\n",
       "       'numberOfTRTHighThresholdOutliers2', 'numberOfTRTDeadStraws2',\n",
       "       'numberOfTRTTubeHits2', 'numberOfTRTXenonHits2',\n",
       "       'numberOfTRTSharedHits2'],\n",
       "      dtype='object', length=138)"
      ]
     },
     "execution_count": 63,
     "metadata": {},
     "output_type": "execute_result"
    }
   ],
   "source": [
    "df.columns"
   ]
  },
  {
   "cell_type": "code",
   "execution_count": 53,
   "metadata": {},
   "outputs": [
    {
     "ename": "ValueError",
     "evalue": "supplied range of [-8.142135620117188, inf] is not finite",
     "output_type": "error",
     "traceback": [
      "\u001b[0;31m---------------------------------------------------------------------------\u001b[0m",
      "\u001b[0;31mValueError\u001b[0m                                Traceback (most recent call last)",
      "\u001b[0;32m<ipython-input-53-fa36deac31a1>\u001b[0m in \u001b[0;36m<module>\u001b[0;34m\u001b[0m\n\u001b[1;32m      6\u001b[0m \u001b[0;34m\u001b[0m\u001b[0m\n\u001b[1;32m      7\u001b[0m auc_est = f.roc_curve_data(mass_test,  probs[:, 0], ax_roc = ax[0], ax_fits = ax[1], Npoints = 25, \\\n\u001b[0;32m----> 8\u001b[0;31m                  plimit = 0, verbose = False, ax_hist = ax[2])\n\u001b[0m\u001b[1;32m      9\u001b[0m \u001b[0;34m\u001b[0m\u001b[0m\n\u001b[1;32m     10\u001b[0m \u001b[0;31m# from sklearn.metrics import roc_curve, roc_auc_score\u001b[0m\u001b[0;34m\u001b[0m\u001b[0;34m\u001b[0m\u001b[0;34m\u001b[0m\u001b[0m\n",
      "\u001b[0;32m~/work/PUK_ml_high/py_files/functions.py\u001b[0m in \u001b[0;36mroc_curve_data\u001b[0;34m(mass, probs, Npoints, bins, range, ax_roc, ax_fits, verbose, plimit, ax_hist)\u001b[0m\n\u001b[1;32m    122\u001b[0m     \u001b[0mlprobs\u001b[0m \u001b[0;34m=\u001b[0m \u001b[0mnp\u001b[0m\u001b[0;34m.\u001b[0m\u001b[0msort\u001b[0m\u001b[0;34m(\u001b[0m\u001b[0mlogit\u001b[0m\u001b[0;34m(\u001b[0m\u001b[0mprobs\u001b[0m\u001b[0;34m)\u001b[0m\u001b[0;34m)\u001b[0m\u001b[0;34m\u001b[0m\u001b[0;34m\u001b[0m\u001b[0m\n\u001b[1;32m    123\u001b[0m     \u001b[0;32mif\u001b[0m \u001b[0max_hist\u001b[0m\u001b[0;34m:\u001b[0m\u001b[0;34m\u001b[0m\u001b[0;34m\u001b[0m\u001b[0m\n\u001b[0;32m--> 124\u001b[0;31m         \u001b[0mn\u001b[0m\u001b[0;34m,\u001b[0m \u001b[0medges\u001b[0m\u001b[0;34m,\u001b[0m \u001b[0mpatches\u001b[0m \u001b[0;34m=\u001b[0m \u001b[0max_hist\u001b[0m\u001b[0;34m.\u001b[0m\u001b[0mhist\u001b[0m\u001b[0;34m(\u001b[0m\u001b[0mlprobs\u001b[0m\u001b[0;34m,\u001b[0m \u001b[0mbins\u001b[0m \u001b[0;34m=\u001b[0m \u001b[0mbins\u001b[0m\u001b[0;34m,\u001b[0m \u001b[0mhisttype\u001b[0m \u001b[0;34m=\u001b[0m \u001b[0;34m'stepfilled'\u001b[0m\u001b[0;34m,\u001b[0m \u001b[0mcolor\u001b[0m \u001b[0;34m=\u001b[0m \u001b[0;34m'gray'\u001b[0m\u001b[0;34m)\u001b[0m\u001b[0;34m\u001b[0m\u001b[0;34m\u001b[0m\u001b[0m\n\u001b[0m\u001b[1;32m    125\u001b[0m \u001b[0;31m#         print(n)\u001b[0m\u001b[0;34m\u001b[0m\u001b[0;34m\u001b[0m\u001b[0;34m\u001b[0m\u001b[0m\n\u001b[1;32m    126\u001b[0m         \u001b[0;32mfor\u001b[0m \u001b[0mcut\u001b[0m\u001b[0;34m,\u001b[0m \u001b[0mcolor\u001b[0m \u001b[0;32min\u001b[0m \u001b[0mzip\u001b[0m\u001b[0;34m(\u001b[0m\u001b[0mcuts\u001b[0m\u001b[0;34m,\u001b[0m \u001b[0mcolors\u001b[0m\u001b[0;34m)\u001b[0m\u001b[0;34m:\u001b[0m\u001b[0;34m\u001b[0m\u001b[0;34m\u001b[0m\u001b[0m\n",
      "\u001b[0;32m/opt/conda/envs/python3/lib/python3.7/site-packages/matplotlib/__init__.py\u001b[0m in \u001b[0;36minner\u001b[0;34m(ax, data, *args, **kwargs)\u001b[0m\n\u001b[1;32m   1597\u001b[0m     \u001b[0;32mdef\u001b[0m \u001b[0minner\u001b[0m\u001b[0;34m(\u001b[0m\u001b[0max\u001b[0m\u001b[0;34m,\u001b[0m \u001b[0;34m*\u001b[0m\u001b[0margs\u001b[0m\u001b[0;34m,\u001b[0m \u001b[0mdata\u001b[0m\u001b[0;34m=\u001b[0m\u001b[0;32mNone\u001b[0m\u001b[0;34m,\u001b[0m \u001b[0;34m**\u001b[0m\u001b[0mkwargs\u001b[0m\u001b[0;34m)\u001b[0m\u001b[0;34m:\u001b[0m\u001b[0;34m\u001b[0m\u001b[0;34m\u001b[0m\u001b[0m\n\u001b[1;32m   1598\u001b[0m         \u001b[0;32mif\u001b[0m \u001b[0mdata\u001b[0m \u001b[0;32mis\u001b[0m \u001b[0;32mNone\u001b[0m\u001b[0;34m:\u001b[0m\u001b[0;34m\u001b[0m\u001b[0;34m\u001b[0m\u001b[0m\n\u001b[0;32m-> 1599\u001b[0;31m             \u001b[0;32mreturn\u001b[0m \u001b[0mfunc\u001b[0m\u001b[0;34m(\u001b[0m\u001b[0max\u001b[0m\u001b[0;34m,\u001b[0m \u001b[0;34m*\u001b[0m\u001b[0mmap\u001b[0m\u001b[0;34m(\u001b[0m\u001b[0msanitize_sequence\u001b[0m\u001b[0;34m,\u001b[0m \u001b[0margs\u001b[0m\u001b[0;34m)\u001b[0m\u001b[0;34m,\u001b[0m \u001b[0;34m**\u001b[0m\u001b[0mkwargs\u001b[0m\u001b[0;34m)\u001b[0m\u001b[0;34m\u001b[0m\u001b[0;34m\u001b[0m\u001b[0m\n\u001b[0m\u001b[1;32m   1600\u001b[0m \u001b[0;34m\u001b[0m\u001b[0m\n\u001b[1;32m   1601\u001b[0m         \u001b[0mbound\u001b[0m \u001b[0;34m=\u001b[0m \u001b[0mnew_sig\u001b[0m\u001b[0;34m.\u001b[0m\u001b[0mbind\u001b[0m\u001b[0;34m(\u001b[0m\u001b[0max\u001b[0m\u001b[0;34m,\u001b[0m \u001b[0;34m*\u001b[0m\u001b[0margs\u001b[0m\u001b[0;34m,\u001b[0m \u001b[0;34m**\u001b[0m\u001b[0mkwargs\u001b[0m\u001b[0;34m)\u001b[0m\u001b[0;34m\u001b[0m\u001b[0;34m\u001b[0m\u001b[0m\n",
      "\u001b[0;32m/opt/conda/envs/python3/lib/python3.7/site-packages/matplotlib/axes/_axes.py\u001b[0m in \u001b[0;36mhist\u001b[0;34m(self, x, bins, range, density, weights, cumulative, bottom, histtype, align, orientation, rwidth, log, color, label, stacked, normed, **kwargs)\u001b[0m\n\u001b[1;32m   6773\u001b[0m             \u001b[0;31m# this will automatically overwrite bins,\u001b[0m\u001b[0;34m\u001b[0m\u001b[0;34m\u001b[0m\u001b[0;34m\u001b[0m\u001b[0m\n\u001b[1;32m   6774\u001b[0m             \u001b[0;31m# so that each histogram uses the same bins\u001b[0m\u001b[0;34m\u001b[0m\u001b[0;34m\u001b[0m\u001b[0;34m\u001b[0m\u001b[0m\n\u001b[0;32m-> 6775\u001b[0;31m             \u001b[0mm\u001b[0m\u001b[0;34m,\u001b[0m \u001b[0mbins\u001b[0m \u001b[0;34m=\u001b[0m \u001b[0mnp\u001b[0m\u001b[0;34m.\u001b[0m\u001b[0mhistogram\u001b[0m\u001b[0;34m(\u001b[0m\u001b[0mx\u001b[0m\u001b[0;34m[\u001b[0m\u001b[0mi\u001b[0m\u001b[0;34m]\u001b[0m\u001b[0;34m,\u001b[0m \u001b[0mbins\u001b[0m\u001b[0;34m,\u001b[0m \u001b[0mweights\u001b[0m\u001b[0;34m=\u001b[0m\u001b[0mw\u001b[0m\u001b[0;34m[\u001b[0m\u001b[0mi\u001b[0m\u001b[0;34m]\u001b[0m\u001b[0;34m,\u001b[0m \u001b[0;34m**\u001b[0m\u001b[0mhist_kwargs\u001b[0m\u001b[0;34m)\u001b[0m\u001b[0;34m\u001b[0m\u001b[0;34m\u001b[0m\u001b[0m\n\u001b[0m\u001b[1;32m   6776\u001b[0m             \u001b[0mm\u001b[0m \u001b[0;34m=\u001b[0m \u001b[0mm\u001b[0m\u001b[0;34m.\u001b[0m\u001b[0mastype\u001b[0m\u001b[0;34m(\u001b[0m\u001b[0mfloat\u001b[0m\u001b[0;34m)\u001b[0m  \u001b[0;31m# causes problems later if it's an int\u001b[0m\u001b[0;34m\u001b[0m\u001b[0;34m\u001b[0m\u001b[0m\n\u001b[1;32m   6777\u001b[0m             \u001b[0;32mif\u001b[0m \u001b[0mmlast\u001b[0m \u001b[0;32mis\u001b[0m \u001b[0;32mNone\u001b[0m\u001b[0;34m:\u001b[0m\u001b[0;34m\u001b[0m\u001b[0;34m\u001b[0m\u001b[0m\n",
      "\u001b[0;32m<__array_function__ internals>\u001b[0m in \u001b[0;36mhistogram\u001b[0;34m(*args, **kwargs)\u001b[0m\n",
      "\u001b[0;32m/opt/conda/envs/python3/lib/python3.7/site-packages/numpy/lib/histograms.py\u001b[0m in \u001b[0;36mhistogram\u001b[0;34m(a, bins, range, normed, weights, density)\u001b[0m\n\u001b[1;32m    793\u001b[0m     \u001b[0ma\u001b[0m\u001b[0;34m,\u001b[0m \u001b[0mweights\u001b[0m \u001b[0;34m=\u001b[0m \u001b[0m_ravel_and_check_weights\u001b[0m\u001b[0;34m(\u001b[0m\u001b[0ma\u001b[0m\u001b[0;34m,\u001b[0m \u001b[0mweights\u001b[0m\u001b[0;34m)\u001b[0m\u001b[0;34m\u001b[0m\u001b[0;34m\u001b[0m\u001b[0m\n\u001b[1;32m    794\u001b[0m \u001b[0;34m\u001b[0m\u001b[0m\n\u001b[0;32m--> 795\u001b[0;31m     \u001b[0mbin_edges\u001b[0m\u001b[0;34m,\u001b[0m \u001b[0muniform_bins\u001b[0m \u001b[0;34m=\u001b[0m \u001b[0m_get_bin_edges\u001b[0m\u001b[0;34m(\u001b[0m\u001b[0ma\u001b[0m\u001b[0;34m,\u001b[0m \u001b[0mbins\u001b[0m\u001b[0;34m,\u001b[0m \u001b[0mrange\u001b[0m\u001b[0;34m,\u001b[0m \u001b[0mweights\u001b[0m\u001b[0;34m)\u001b[0m\u001b[0;34m\u001b[0m\u001b[0;34m\u001b[0m\u001b[0m\n\u001b[0m\u001b[1;32m    796\u001b[0m \u001b[0;34m\u001b[0m\u001b[0m\n\u001b[1;32m    797\u001b[0m     \u001b[0;31m# Histogram is an integer or a float array depending on the weights.\u001b[0m\u001b[0;34m\u001b[0m\u001b[0;34m\u001b[0m\u001b[0;34m\u001b[0m\u001b[0m\n",
      "\u001b[0;32m/opt/conda/envs/python3/lib/python3.7/site-packages/numpy/lib/histograms.py\u001b[0m in \u001b[0;36m_get_bin_edges\u001b[0;34m(a, bins, range, weights)\u001b[0m\n\u001b[1;32m    427\u001b[0m             \u001b[0;32mraise\u001b[0m \u001b[0mValueError\u001b[0m\u001b[0;34m(\u001b[0m\u001b[0;34m'`bins` must be positive, when an integer'\u001b[0m\u001b[0;34m)\u001b[0m\u001b[0;34m\u001b[0m\u001b[0;34m\u001b[0m\u001b[0m\n\u001b[1;32m    428\u001b[0m \u001b[0;34m\u001b[0m\u001b[0m\n\u001b[0;32m--> 429\u001b[0;31m         \u001b[0mfirst_edge\u001b[0m\u001b[0;34m,\u001b[0m \u001b[0mlast_edge\u001b[0m \u001b[0;34m=\u001b[0m \u001b[0m_get_outer_edges\u001b[0m\u001b[0;34m(\u001b[0m\u001b[0ma\u001b[0m\u001b[0;34m,\u001b[0m \u001b[0mrange\u001b[0m\u001b[0;34m)\u001b[0m\u001b[0;34m\u001b[0m\u001b[0;34m\u001b[0m\u001b[0m\n\u001b[0m\u001b[1;32m    430\u001b[0m \u001b[0;34m\u001b[0m\u001b[0m\n\u001b[1;32m    431\u001b[0m     \u001b[0;32melif\u001b[0m \u001b[0mnp\u001b[0m\u001b[0;34m.\u001b[0m\u001b[0mndim\u001b[0m\u001b[0;34m(\u001b[0m\u001b[0mbins\u001b[0m\u001b[0;34m)\u001b[0m \u001b[0;34m==\u001b[0m \u001b[0;36m1\u001b[0m\u001b[0;34m:\u001b[0m\u001b[0;34m\u001b[0m\u001b[0;34m\u001b[0m\u001b[0m\n",
      "\u001b[0;32m/opt/conda/envs/python3/lib/python3.7/site-packages/numpy/lib/histograms.py\u001b[0m in \u001b[0;36m_get_outer_edges\u001b[0;34m(a, range)\u001b[0m\n\u001b[1;32m    317\u001b[0m         \u001b[0;32mif\u001b[0m \u001b[0;32mnot\u001b[0m \u001b[0;34m(\u001b[0m\u001b[0mnp\u001b[0m\u001b[0;34m.\u001b[0m\u001b[0misfinite\u001b[0m\u001b[0;34m(\u001b[0m\u001b[0mfirst_edge\u001b[0m\u001b[0;34m)\u001b[0m \u001b[0;32mand\u001b[0m \u001b[0mnp\u001b[0m\u001b[0;34m.\u001b[0m\u001b[0misfinite\u001b[0m\u001b[0;34m(\u001b[0m\u001b[0mlast_edge\u001b[0m\u001b[0;34m)\u001b[0m\u001b[0;34m)\u001b[0m\u001b[0;34m:\u001b[0m\u001b[0;34m\u001b[0m\u001b[0;34m\u001b[0m\u001b[0m\n\u001b[1;32m    318\u001b[0m             raise ValueError(\n\u001b[0;32m--> 319\u001b[0;31m                 \"supplied range of [{}, {}] is not finite\".format(first_edge, last_edge))\n\u001b[0m\u001b[1;32m    320\u001b[0m     \u001b[0;32melif\u001b[0m \u001b[0ma\u001b[0m\u001b[0;34m.\u001b[0m\u001b[0msize\u001b[0m \u001b[0;34m==\u001b[0m \u001b[0;36m0\u001b[0m\u001b[0;34m:\u001b[0m\u001b[0;34m\u001b[0m\u001b[0;34m\u001b[0m\u001b[0m\n\u001b[1;32m    321\u001b[0m         \u001b[0;31m# handle empty arrays. Can't determine range, so use 0-1.\u001b[0m\u001b[0;34m\u001b[0m\u001b[0;34m\u001b[0m\u001b[0;34m\u001b[0m\u001b[0m\n",
      "\u001b[0;31mValueError\u001b[0m: supplied range of [-8.142135620117188, inf] is not finite"
     ]
    },
    {
     "data": {
      "image/png": "[encoded data removed]",
      "text/plain": [
       "<Figure size 864x432 with 3 Axes>"
      ]
     },
     "metadata": {
      "needs_background": "light"
     },
     "output_type": "display_data"
    }
   ],
   "source": [
    "fig, ax = plt.subplots(ncols = 3, figsize = (12, 6))\n",
    "\n",
    "probs = model.predict_proba(df_test)\n",
    "from scipy.special import logit\n",
    "\n",
    "\n",
    "auc_est = f.roc_curve_data(mass_test,  probs[:, 0], ax_roc = ax[0], ax_fits = ax[1], Npoints = 25, \\\n",
    "                 plimit = 0, verbose = False, ax_hist = ax[2])\n",
    "\n",
    "# from sklearn.metrics import roc_curve, roc_auc_score\n",
    "# x, y, _ = roc_curve(true1_test, probs1[:, 0])\n",
    "# auc_true = roc_auc_score(true1_test, probs1[:, 0])\n",
    "\n",
    "fig.suptitle(f\"Model using: {', '.join(features)}\", fontsize = 14)\n",
    "\n",
    "# d = {\"Estimated AUC:\": 1 + auc_est, \\\n",
    "#      \"True AUC:\":      1 - auc_true}\n",
    "\n",
    "# add_text_to_ax(0.4, 0.6, nice_string_output(d,extra_spacing = 3), ax = ax[0], fontsize = 9)\n",
    "\n",
    "# ax[0].plot(y, x, '--')\n",
    "ax[2].set_yscale('log')\n",
    "\n",
    "ax[0].set(xlabel = \"False Positive Rate\", ylabel = \"True Positve Rate\")\n",
    "ax[1].set(xlabel = \"k-short mass\", ylabel = \"frequency\")\n",
    "ax[2].set(xlabel = \"logit(probability)\", ylabel = \"frequency\")\n",
    "\n",
    "fig.tight_layout(rect = (0, 0, 1, 0.95))\n",
    "\n",
    "# fig.savefig(\"../figures/corr_classifyer.pdf\")"
   ]
  },
  {
   "cell_type": "code",
   "execution_count": null,
   "metadata": {},
   "outputs": [],
   "source": [
    "label = model.predict(df_test)"
   ]
  },
  {
   "cell_type": "code",
   "execution_count": null,
   "metadata": {},
   "outputs": [],
   "source": [
    "sig, bins = np.histogram(mass_test[label == True],  range = (400, 600), bins = 100)\n",
    "bak, bins = np.histogram(mass_test[label == False], range = (400, 600), bins = 100)\n",
    "tot, bins = np.histogram(mass_test, range = (400, 600), bins = 100)\n",
    "\n",
    "xs = (bins[:-1] + bins[1:])/2"
   ]
  },
  {
   "cell_type": "code",
   "execution_count": null,
   "metadata": {},
   "outputs": [],
   "source": [
    "fig, ax = plt.subplots(ncols = 3, figsize = (10, 4), sharey = True)\n",
    "\n",
    "ax[0].fill_between(xs, tot, color = \"gray\")\n",
    "ax[0].set_title(\"Total frequency\")\n",
    "ax[0].set_ylabel(\"Frequncy\")\n",
    "\n",
    "\n",
    "ax[1].fill_between(xs, sig, color = 'green')\n",
    "ax[1].set_title(\"Classified signal\")\n",
    "\n",
    "\n",
    "ax[2].fill_between(xs, bak, color = 'red')\n",
    "ax[2].set_title(\"Classified background\")\n",
    "\n",
    "for x in ax:\n",
    "    x.set_xlabel(\"k-short-mass [MeV]\")\n",
    "\n",
    "fig.tight_layout()\n",
    "\n",
    "# fig.savefig(\"../figures/bad_classifier.pdf\")"
   ]
  },
  {
   "cell_type": "code",
   "execution_count": null,
   "metadata": {},
   "outputs": [],
   "source": [
    "features_rm = [b'pT', b'v0_ks_massErr', b'alpha', b'calpha', b'pL1', b'thetastar', b'v0_la_mass', b'v0_lb_mass', b'v0_la_massErr', b'v0_lb_massErr', \\\n",
    "               b'Alpha', b'eventCounter']"
   ]
  },
  {
   "cell_type": "code",
   "execution_count": null,
   "metadata": {},
   "outputs": [],
   "source": [
    "df"
   ]
  },
  {
   "cell_type": "code",
   "execution_count": null,
   "metadata": {},
   "outputs": [],
   "source": [
    "data_path = \"../../Data/data15_13TeV.00267358.physics_MinBias.30062015_v0_per_0.root\"\n",
    "data_file = uproot.open(data_path)\n",
    "data_tree = data_file['tree']\n",
    "\n",
    "# features = data_tree.keys()[:67]\n",
    "\n",
    "\n",
    "\n",
    "features = data_tree.keys()[:57]\n",
    "features.remove(b\"v0_ks_mass\")\n",
    "\n",
    "for rm in features_rm:\n",
    "    features.remove(rm)\n",
    "\n",
    "N_data = 1500\n",
    "df = data_tree.pandas.df(features, entrystop = N_data)\n",
    "mass = data_tree.pandas.df(b\"v0_ks_mass\", entrystop = N_data)"
   ]
  },
  {
   "cell_type": "code",
   "execution_count": null,
   "metadata": {},
   "outputs": [],
   "source": [
    "Ndata = 2 * 10**6\n",
    "test_ratio = 0.5\n",
    "\n",
    "df = data_tree.pandas.df(features, entrystop = Ndata)\n",
    "\n",
    "mass = data_tree.pandas.df(\"v0_ks_mass\", entrystop = Ndata)\n",
    "\n",
    "from sklearn.model_selection import train_test_split\n",
    "df_train, df_test, mass_train, mass_test= train_test_split(df, mass, test_size = test_ratio)"
   ]
  },
  {
   "cell_type": "code",
   "execution_count": null,
   "metadata": {},
   "outputs": [],
   "source": [
    "mean, sig = 498.26, 7.005\n",
    "\n",
    "from xgboost import XGBClassifier as LGBMClassifier\n",
    "\n",
    "# Apply range\n",
    "mass = mass_train[(mass_train > 400) & (mass_train < 600)].dropna()\n",
    "\n",
    "pseudo_true = mass[abs(mass - mean) <  sig].dropna()\n",
    "\n",
    "am = len(pseudo_true)\n",
    "\n",
    "# True false\n",
    "low_false = mass[(mass  + 7 * sig < mean)|(mass  + 10 * sig > mean)].dropna().sample(am)\n",
    "high_false = mass[(mass  - 10 * sig > mean)|(mass  - 7 * sig < mean)].dropna().sample(am)\n",
    "\n",
    "# Make df\n",
    "indicies = pd.concat([pseudo_true, low_false, high_false]).index\n",
    "\n",
    "target = pd.Series(np.zeros(len(indicies), dtype = int), indicies, dtype = bool)\n",
    "target.loc[pseudo_true.index] = 1\n",
    "\n",
    "model = LGBMClassifier()\n",
    "model.fit(df_train.loc[target.index, :], target.astype(bool))"
   ]
  },
  {
   "cell_type": "code",
   "execution_count": null,
   "metadata": {},
   "outputs": [],
   "source": [
    "label = model.predict(df_test)"
   ]
  },
  {
   "cell_type": "code",
   "execution_count": null,
   "metadata": {},
   "outputs": [],
   "source": [
    "sig, bins = np.histogram(mass_test[label == True],  range = (400, 600), bins = 100)\n",
    "bak, bins = np.histogram(mass_test[label == False], range = (400, 600), bins = 100)\n",
    "tot, bins = np.histogram(mass_test, range = (400, 600), bins = 100)\n",
    "\n",
    "xs = (bins[:-1] + bins[1:])/2"
   ]
  },
  {
   "cell_type": "code",
   "execution_count": null,
   "metadata": {},
   "outputs": [],
   "source": [
    "fig, ax = plt.subplots(ncols = 3, figsize = (10, 4), sharey = True)\n",
    "\n",
    "ax[0].fill_between(xs, tot, color = \"gray\")\n",
    "ax[0].set_title(\"Total frequency\")\n",
    "ax[0].set_ylabel(\"Frequncy\")\n",
    "\n",
    "\n",
    "ax[1].fill_between(xs, sig, color = 'green')\n",
    "ax[1].set_title(\"Classified signal\")\n",
    "\n",
    "\n",
    "ax[2].fill_between(xs, bak, color = 'red')\n",
    "ax[2].set_title(\"Classified background\")\n",
    "\n",
    "for x in ax:\n",
    "    x.set_xlabel(\"k-short-mass [MeV]\")\n",
    "\n",
    "fig.tight_layout()\n",
    "\n",
    "# fig.savefig(\"../figures/bad_classifier.pdf\")"
   ]
  },
  {
   "cell_type": "code",
   "execution_count": null,
   "metadata": {},
   "outputs": [],
   "source": [
    "import shap\n",
    "explainer = shap.TreeExplainer(model)"
   ]
  },
  {
   "cell_type": "code",
   "execution_count": null,
   "metadata": {},
   "outputs": [],
   "source": [
    "shap_values = explainer.shap_values(df.iloc[:1000, :])"
   ]
  },
  {
   "cell_type": "code",
   "execution_count": null,
   "metadata": {},
   "outputs": [],
   "source": [
    "shap.summary_plot(shap_values, df.iloc[:1000, :])"
   ]
  },
  {
   "cell_type": "code",
   "execution_count": null,
   "metadata": {},
   "outputs": [],
   "source": [
    "shap.summary_plot(shap_values, df, plot_type=\"bar\")"
   ]
  },
  {
   "cell_type": "code",
   "execution_count": null,
   "metadata": {},
   "outputs": [],
   "source": [
    "df.columns"
   ]
  },
  {
   "cell_type": "code",
   "execution_count": null,
   "metadata": {},
   "outputs": [],
   "source": []
  }
 ],
 "metadata": {
  "kernelspec": {
   "display_name": "Python 3",
   "language": "python",
   "name": "python3"
  },
  "language_info": {
   "codemirror_mode": {
    "name": "ipython",
    "version": 3
   },
   "file_extension": ".py",
   "mimetype": "text/x-python",
   "name": "python",
   "nbconvert_exporter": "python",
   "pygments_lexer": "ipython3",
   "version": "3.7.6"
  }
 },
 "nbformat": 4,
 "nbformat_minor": 4
}
