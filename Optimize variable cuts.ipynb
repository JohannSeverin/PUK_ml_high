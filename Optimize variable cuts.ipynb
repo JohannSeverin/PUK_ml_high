{
 "cells": [
  {
   "cell_type": "markdown",
   "metadata": {},
   "source": [
    "## Setup"
   ]
  },
  {
   "cell_type": "code",
   "execution_count": 1,
   "metadata": {
    "ExecuteTime": {
     "end_time": "2020-07-15T15:49:44.318027Z",
     "start_time": "2020-07-15T15:49:42.588341Z"
    }
   },
   "outputs": [],
   "source": [
    "import uproot\n",
    "import pandas as pd\n",
    "import numpy as np\n",
    "import matplotlib.pyplot as plt"
   ]
  },
  {
   "cell_type": "code",
   "execution_count": 19,
   "metadata": {
    "ExecuteTime": {
     "end_time": "2020-07-15T15:50:50.551906Z",
     "start_time": "2020-07-15T15:50:50.536993Z"
    }
   },
   "outputs": [],
   "source": [
    "path = \"../Data/mc15_13TeV.361203.Pythia8_A2_MSTW2008LO_ND_minbias.30062015_v0_per_0.root\"\n",
    "\n",
    "train, test = 5e4, 5e4\n",
    "minimum_sig_ration = 0.50"
   ]
  },
  {
   "cell_type": "code",
   "execution_count": 20,
   "metadata": {
    "ExecuteTime": {
     "end_time": "2020-07-15T15:50:51.579235Z",
     "start_time": "2020-07-15T15:50:51.177723Z"
    }
   },
   "outputs": [],
   "source": [
    "file = uproot.open(path)\n",
    "T = file['tree']\n",
    "\n",
    "\n",
    "df = T.pandas.df(\"v0_rxy v0_chi2 cosTheta v0_ks_mass trueKs\".split(\" \"), entrystop = train)\n",
    "\n",
    "\n",
    "means, stds = [], []\n",
    "\n",
    "# Normalize:\n",
    "for col in df.columns[:-1]:\n",
    "    means.append(df[col].mean())\n",
    "    stds.append(df[col].std())\n",
    "    df[col] = (df[col] - df[col].mean()) / df[col].std() \n",
    "    \n",
    "total_sig_noise = (df['trueKs'] == 1).sum() / (df['trueKs'] == 0).sum()\n",
    "total_sig = (df['trueKs'] == 1).sum()"
   ]
  },
  {
   "cell_type": "markdown",
   "metadata": {},
   "source": [
    "## Functions\n",
    "We want to make an optimizer for finding the best signal to noise ratio"
   ]
  },
  {
   "cell_type": "code",
   "execution_count": 21,
   "metadata": {
    "ExecuteTime": {
     "end_time": "2020-07-15T15:50:51.887243Z",
     "start_time": "2020-07-15T15:50:51.849771Z"
    }
   },
   "outputs": [],
   "source": [
    "# the variables are gonna be: rxy_low, rxy_high, chi2_high, cosTheta_low, mass_low, mass_high\n",
    "\n",
    "def signal_to_noise(x):\n",
    "    rxy_low, rxy_high, chi2_high, cosTheta_low, mass_low, mass_high = x\n",
    "    \n",
    "    cop = df.copy()\n",
    "    \n",
    "    cop = cop.loc[np.logical_and(cop['v0_rxy'] > rxy_low, cop['v0_rxy'] < rxy_high)]\n",
    "    cop = cop.loc[cop['v0_chi2'] < chi2_high]\n",
    "    cop = cop.loc[cop['cosTheta'] > cosTheta_low]\n",
    "    cop = cop.loc[np.logical_and(cop['v0_ks_mass'] > mass_low, cop['v0_ks_mass'] < mass_high)]\n",
    "    \n",
    "    return -(cop['trueKs'] == 1).sum() / (cop['trueKs'] == 0).sum()\n",
    "\n",
    "\n",
    "def amount_of_signal(x):\n",
    "    rxy_low, rxy_high, chi2_high, cosTheta_low, mass_low, mass_high = x\n",
    "    \n",
    "    cop = df.copy()\n",
    "    \n",
    "    cop = cop.loc[np.logical_and(cop['v0_rxy'] > rxy_low, cop['v0_rxy'] < rxy_high)]\n",
    "    cop = cop.loc[cop['v0_chi2'] < chi2_high]\n",
    "    cop = cop.loc[cop['cosTheta'] > cosTheta_low]\n",
    "    cop = cop.loc[np.logical_and(cop['v0_ks_mass'] > mass_low, cop['v0_ks_mass'] < mass_high)]\n",
    "    \n",
    "    return (cop['trueKs'] == 1).sum()"
   ]
  },
  {
   "cell_type": "markdown",
   "metadata": {},
   "source": [
    "## Minimize"
   ]
  },
  {
   "cell_type": "code",
   "execution_count": 22,
   "metadata": {
    "ExecuteTime": {
     "end_time": "2020-07-15T15:50:52.181959Z",
     "start_time": "2020-07-15T15:50:52.167184Z"
    }
   },
   "outputs": [],
   "source": [
    "# Guesses:\n",
    "rxy_low, rxy_high = -1, 1\n",
    "chi2_high = 0\n",
    "cosTheta_low = 0\n",
    "mass_low, mass_high = -1, 1\n",
    "\n",
    "# In vector\n",
    "x0 = [rxy_low, rxy_high, chi2_high, cosTheta_low, mass_low, mass_high]"
   ]
  },
  {
   "cell_type": "code",
   "execution_count": 23,
   "metadata": {
    "ExecuteTime": {
     "end_time": "2020-07-15T15:50:52.294257Z",
     "start_time": "2020-07-15T15:50:52.286833Z"
    }
   },
   "outputs": [],
   "source": [
    "# Set the least amount of acceptet signal\n",
    "# we want to keep at least half of the original signal\n",
    "minimum_signal = total_sig *  minimum_sig_ration\n"
   ]
  },
  {
   "cell_type": "code",
   "execution_count": 24,
   "metadata": {
    "ExecuteTime": {
     "end_time": "2020-07-15T15:50:52.519796Z",
     "start_time": "2020-07-15T15:50:52.511678Z"
    }
   },
   "outputs": [],
   "source": [
    "from scipy.optimize import minimize"
   ]
  },
  {
   "cell_type": "code",
   "execution_count": 25,
   "metadata": {
    "ExecuteTime": {
     "end_time": "2020-07-15T15:51:03.938032Z",
     "start_time": "2020-07-15T15:50:52.706328Z"
    },
    "scrolled": true
   },
   "outputs": [
    {
     "name": "stderr",
     "output_type": "stream",
     "text": [
      "/home/johann/anaconda3/lib/python3.7/site-packages/ipykernel_launcher.py:13: RuntimeWarning: invalid value encountered in long_scalars\n",
      "  del sys.path[0]\n"
     ]
    }
   ],
   "source": [
    "y = minimize(lambda x: signal_to_noise(x), x0 = x0, \\\n",
    "         options = {'eps': 0.005}, \\\n",
    "         constraints = {'type': \"ineq\", 'fun': lambda x:  amount_of_signal(x) - minimum_signal})"
   ]
  },
  {
   "cell_type": "code",
   "execution_count": 26,
   "metadata": {
    "ExecuteTime": {
     "end_time": "2020-07-15T15:51:03.981451Z",
     "start_time": "2020-07-15T15:51:03.946377Z"
    }
   },
   "outputs": [],
   "source": [
    "sig_to_noise = -y.fun\n",
    "sig_amount   = amount_of_signal(y.x)"
   ]
  },
  {
   "cell_type": "code",
   "execution_count": 27,
   "metadata": {
    "ExecuteTime": {
     "end_time": "2020-07-15T15:51:04.015638Z",
     "start_time": "2020-07-15T15:51:03.992545Z"
    }
   },
   "outputs": [],
   "source": [
    "rxy_low, rxy_high, chi2_high, cosTheta_low, mass_low, mass_high = y.x\n",
    "\n",
    "rxy_low_min = (rxy_low * stds[0]) + means[0]\n",
    "rxy_high_min = (rxy_high * stds[0]) + means[0]\n",
    "chi2_high_min = (chi2_high * stds[1]) + means[1]\n",
    "cos_Theta_low_min = (cosTheta_low * stds[2]) + means[2] \n",
    "mass_low_min = (mass_low * stds[3]) + means[3]\n",
    "mass_high_min = (mass_high * stds[3]) + means[3]"
   ]
  },
  {
   "cell_type": "code",
   "execution_count": 28,
   "metadata": {
    "ExecuteTime": {
     "end_time": "2020-07-15T15:51:04.038847Z",
     "start_time": "2020-07-15T15:51:04.023593Z"
    }
   },
   "outputs": [
    {
     "name": "stdout",
     "output_type": "stream",
     "text": [
      "\n",
      "The new cuts are: rxy between -60.818 and 114.783\n",
      "For chi2 it is lower than 0.819\n",
      "For cosTheta, the cut is over 0.2705\n",
      "For mass it is between 490.454 and 510.894\n",
      "\n",
      "In train data we have:\n",
      "signal to noise is 7.26, up from 0.10\n",
      "Amount of signal is 2380, down from 4739\n",
      "\n"
     ]
    }
   ],
   "source": [
    "cut_string = f\"\"\"\n",
    "The new cuts are: rxy between {rxy_low_min:.3f} and {rxy_high_min:.3f}\n",
    "For chi2 it is lower than {chi2_high_min:.3f}\n",
    "For cosTheta, the cut is over {cos_Theta_low_min:.4f}\n",
    "For mass it is between {mass_low_min:.3f} and {mass_high_min:.3f}\n",
    "\n",
    "In train data we have:\n",
    "signal to noise is {sig_to_noise:.2f}, up from {total_sig_noise:.2f}\n",
    "Amount of signal is {sig_amount}, down from {total_sig}\n",
    "\"\"\"\n",
    "\n",
    "print(cut_string)"
   ]
  },
  {
   "cell_type": "markdown",
   "metadata": {},
   "source": [
    "## In test data"
   ]
  },
  {
   "cell_type": "code",
   "execution_count": 29,
   "metadata": {
    "ExecuteTime": {
     "end_time": "2020-07-15T15:51:04.142063Z",
     "start_time": "2020-07-15T15:51:04.045060Z"
    }
   },
   "outputs": [],
   "source": [
    "df_test = T.pandas.df(\"v0_rxy v0_chi2 cosTheta v0_ks_mass trueKs\".split(\" \"), entrystart = train, entrystop = test + train)\n",
    "\n",
    "total_test_sig = (df_test['trueKs'] == 1).sum()\n",
    "total_sig_noise_test = (df_test['trueKs'] == 1).sum() / (df_test['trueKs'] == 0).sum()\n",
    "# print(total_test_sig)\n",
    "\n",
    "df_test = df_test.loc[np.logical_and(df_test['v0_rxy'] > rxy_low_min, df_test['v0_rxy'] < rxy_high_min)]\n",
    "df_test = df_test.loc[df_test['v0_chi2'] < chi2_high_min]\n",
    "df_test = df_test.loc[df_test['cosTheta'] > cos_Theta_low_min]\n",
    "df_test = df_test.loc[np.logical_and(df_test['v0_ks_mass'] > mass_low_min, df_test['v0_ks_mass'] < mass_high_min)]\n",
    "\n"
   ]
  },
  {
   "cell_type": "code",
   "execution_count": 30,
   "metadata": {
    "ExecuteTime": {
     "end_time": "2020-07-15T15:51:04.164183Z",
     "start_time": "2020-07-15T15:51:04.149041Z"
    }
   },
   "outputs": [],
   "source": [
    "sig_noise_test, sig_test_after = (df_test['trueKs'] == 1).sum() / (df_test['trueKs'] == 0).sum(), (df_test['trueKs'] == 1).sum()"
   ]
  },
  {
   "cell_type": "code",
   "execution_count": 31,
   "metadata": {
    "ExecuteTime": {
     "end_time": "2020-07-15T15:51:14.734256Z",
     "start_time": "2020-07-15T15:51:04.169391Z"
    }
   },
   "outputs": [
    {
     "data": {
      "image/png": "[encoded data removed]",
      "text/plain": [
       "<Figure size 1224x504 with 8 Axes>"
      ]
     },
     "metadata": {
      "needs_background": "light"
     },
     "output_type": "display_data"
    }
   ],
   "source": [
    "fig, ax = plt.subplots(ncols = 4, nrows = 2, figsize = (17, 7))\n",
    "bins = 100\n",
    "\n",
    "plot_values = \"v0_rxy v0_chi2 cosTheta v0_ks_mass\".split(\" \") # Values to plot \n",
    "trueKs = df_test[\"trueKs\"].astype(bool) # Identify true/false for Ks \n",
    "\n",
    "for i, col in enumerate(plot_values):\n",
    "    ax[0][i].set_title(col)\n",
    "    ax[0][i].hist(df_test[col].loc[trueKs], bins = bins, color = \"green\")\n",
    "    ax[1][i].hist(df_test[col].loc[trueKs.apply(lambda x: not x)], bins = bins, color = \"red\")\n",
    "    \n",
    "ax[0][0].set_ylabel(\"TrueKs\")\n",
    "ax[1][0].set_ylabel(\"FalseKs\")\n",
    "\n",
    "fig.tight_layout()"
   ]
  },
  {
   "cell_type": "code",
   "execution_count": 32,
   "metadata": {
    "ExecuteTime": {
     "end_time": "2020-07-15T15:51:14.755533Z",
     "start_time": "2020-07-15T15:51:14.743844Z"
    }
   },
   "outputs": [
    {
     "name": "stdout",
     "output_type": "stream",
     "text": [
      "\n",
      "In test data, we have:\n",
      "signal to noise is 6.22, up from 0.10\n",
      "Amount of signal is 2272, down from 4625\n",
      "\n"
     ]
    }
   ],
   "source": [
    "test_data_string = f\"\"\"\n",
    "In test data, we have:\n",
    "signal to noise is {sig_noise_test:.2f}, up from {total_sig_noise_test:.2f}\n",
    "Amount of signal is {sig_test_after}, down from {total_test_sig}\n",
    "\"\"\"\n",
    "print(test_data_string)"
   ]
  },
  {
   "cell_type": "code",
   "execution_count": 33,
   "metadata": {
    "ExecuteTime": {
     "end_time": "2020-07-15T15:51:14.789957Z",
     "start_time": "2020-07-15T15:51:14.763018Z"
    }
   },
   "outputs": [],
   "source": [
    "def cutter(df):\n",
    "    label = np.ones(len(df))\n",
    "    label[np.logical_or(df['v0_rxy'] < rxy_low_min, df['v0_rxy'] > rxy_high_min)] = 0\n",
    "    label[df['v0_chi2'] > chi2_high_min] = 0\n",
    "    label[df['cosTheta'] < cos_Theta_low_min] = 0\n",
    "    label[np.logical_or(df['v0_ks_mass'] < mass_low_min, df['v0_ks_mass'] > mass_high_min)] = 0\n",
    "    return label"
   ]
  },
  {
   "cell_type": "code",
   "execution_count": 34,
   "metadata": {
    "ExecuteTime": {
     "end_time": "2020-07-15T15:51:14.812315Z",
     "start_time": "2020-07-15T15:51:14.798634Z"
    }
   },
   "outputs": [],
   "source": [
    "import dill, pickle"
   ]
  },
  {
   "cell_type": "code",
   "execution_count": 35,
   "metadata": {
    "ExecuteTime": {
     "end_time": "2020-07-15T15:51:14.838055Z",
     "start_time": "2020-07-15T15:51:14.821232Z"
    }
   },
   "outputs": [],
   "source": [
    "file = open(f\"cutter_{int(100 * minimum_sig_ration)}.dat\", 'wb')\n",
    "seriealized = dill.dumps(cutter, recurse = True)\n",
    "dill.dump(seriealized, file, recurse = True)\n",
    "file.close()\n"
   ]
  },
  {
   "cell_type": "code",
   "execution_count": null,
   "metadata": {},
   "outputs": [],
   "source": []
  }
 ],
 "metadata": {
  "kernelspec": {
   "display_name": "Python 3",
   "language": "python",
   "name": "python3"
  },
  "language_info": {
   "codemirror_mode": {
    "name": "ipython",
    "version": 3
   },
   "file_extension": ".py",
   "mimetype": "text/x-python",
   "name": "python",
   "nbconvert_exporter": "python",
   "pygments_lexer": "ipython3",
   "version": "3.7.4"
  },
  "latex_envs": {
   "LaTeX_envs_menu_present": true,
   "autoclose": false,
   "autocomplete": true,
   "bibliofile": "biblio.bib",
   "cite_by": "apalike",
   "current_citInitial": 1,
   "eqLabelWithNumbers": true,
   "eqNumInitial": 1,
   "hotkeys": {
    "equation": "Ctrl-E",
    "itemize": "Ctrl-I"
   },
   "labels_anchors": false,
   "latex_user_defs": false,
   "report_style_numbering": false,
   "user_envs_cfg": false
  },
  "toc": {
   "base_numbering": 1,
   "nav_menu": {},
   "number_sections": true,
   "sideBar": true,
   "skip_h1_title": true,
   "title_cell": "Table of Contents",
   "title_sidebar": "Contents",
   "toc_cell": false,
   "toc_position": {},
   "toc_section_display": true,
   "toc_window_display": false
  }
 },
 "nbformat": 4,
 "nbformat_minor": 4
}
