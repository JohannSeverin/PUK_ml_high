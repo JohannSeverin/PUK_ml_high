{
 "cells": [
  {
   "cell_type": "markdown",
   "metadata": {},
   "source": [
    "## Setup"
   ]
  },
  {
   "cell_type": "code",
   "execution_count": 1,
   "metadata": {
    "ExecuteTime": {
     "end_time": "2020-07-10T14:50:20.647466Z",
     "start_time": "2020-07-10T14:50:20.099435Z"
    }
   },
   "outputs": [],
   "source": [
    "import uproot\n",
    "import pandas as pd\n",
    "import numpy as np\n",
    "import matplotlib.pyplot as plt"
   ]
  },
  {
   "cell_type": "code",
   "execution_count": 2,
   "metadata": {
    "ExecuteTime": {
     "end_time": "2020-07-10T14:50:20.654133Z",
     "start_time": "2020-07-10T14:50:20.649730Z"
    }
   },
   "outputs": [],
   "source": [
    "path = \"../Data/mc15_13TeV.361203.Pythia8_A2_MSTW2008LO_ND_minbias.30062015_v0_per_0.root\"\n",
    "\n",
    "train, test = 3e6, 3e6\n",
    "minimum_sig_ration = 0.95"
   ]
  },
  {
   "cell_type": "code",
   "execution_count": 3,
   "metadata": {
    "ExecuteTime": {
     "end_time": "2020-07-10T14:50:21.367999Z",
     "start_time": "2020-07-10T14:50:20.659930Z"
    }
   },
   "outputs": [],
   "source": [
    "file = uproot.open(path)\n",
    "T = file['tree']\n",
    "\n",
    "\n",
    "df = T.pandas.df(\"v0_rxy v0_chi2 cosTheta v0_ks_mass trueKs\".split(\" \"), entrystop = train)\n",
    "\n",
    "\n",
    "means, stds = [], []\n",
    "\n",
    "# Normalize:\n",
    "for col in df.columns[:-1]:\n",
    "    means.append(df[col].mean())\n",
    "    stds.append(df[col].std())\n",
    "    df[col] = (df[col] - df[col].mean()) / df[col].std() \n",
    "    \n",
    "total_sig_noise = (df['trueKs'] == 1).sum() / (df['trueKs'] == 0).sum()\n",
    "total_sig = (df['trueKs'] == 1).sum()"
   ]
  },
  {
   "cell_type": "markdown",
   "metadata": {},
   "source": [
    "## Functions\n",
    "We want to make an optimizer for finding the best signal to noise ratio"
   ]
  },
  {
   "cell_type": "code",
   "execution_count": 4,
   "metadata": {
    "ExecuteTime": {
     "end_time": "2020-07-10T14:50:21.380669Z",
     "start_time": "2020-07-10T14:50:21.370354Z"
    }
   },
   "outputs": [],
   "source": [
    "# the variables are gonna be: rxy_low, rxy_high, chi2_high, cosTheta_low, mass_low, mass_high\n",
    "\n",
    "def signal_to_noise(x):\n",
    "    rxy_low, rxy_high, chi2_high, cosTheta_low, mass_low, mass_high = x\n",
    "    \n",
    "    cop = df.copy()\n",
    "    \n",
    "    cop = cop.loc[np.logical_and(cop['v0_rxy'] > rxy_low, cop['v0_rxy'] < rxy_high)]\n",
    "    cop = cop.loc[cop['v0_chi2'] < chi2_high]\n",
    "    cop = cop.loc[cop['cosTheta'] > cosTheta_low]\n",
    "    cop = cop.loc[np.logical_and(cop['v0_ks_mass'] > mass_low, cop['v0_ks_mass'] < mass_high)]\n",
    "    \n",
    "    return -(cop['trueKs'] == 1).sum() / (cop['trueKs'] == 0).sum()\n",
    "\n",
    "\n",
    "def amount_of_signal(x):\n",
    "    rxy_low, rxy_high, chi2_high, cosTheta_low, mass_low, mass_high = x\n",
    "    \n",
    "    cop = df.copy()\n",
    "    \n",
    "    cop = cop.loc[np.logical_and(cop['v0_rxy'] > rxy_low, cop['v0_rxy'] < rxy_high)]\n",
    "    cop = cop.loc[cop['v0_chi2'] < chi2_high]\n",
    "    cop = cop.loc[cop['cosTheta'] > cosTheta_low]\n",
    "    cop = cop.loc[np.logical_and(cop['v0_ks_mass'] > mass_low, cop['v0_ks_mass'] < mass_high)]\n",
    "    \n",
    "    return (cop['trueKs'] == 1).sum()"
   ]
  },
  {
   "cell_type": "markdown",
   "metadata": {},
   "source": [
    "## Minimize"
   ]
  },
  {
   "cell_type": "code",
   "execution_count": 5,
   "metadata": {
    "ExecuteTime": {
     "end_time": "2020-07-10T14:50:21.389930Z",
     "start_time": "2020-07-10T14:50:21.383797Z"
    }
   },
   "outputs": [],
   "source": [
    "# Guesses:\n",
    "rxy_low, rxy_high = -1, 1\n",
    "chi2_high = 0\n",
    "cosTheta_low = 0\n",
    "mass_low, mass_high = -1, 1\n",
    "\n",
    "# In vector\n",
    "x0 = [rxy_low, rxy_high, chi2_high, cosTheta_low, mass_low, mass_high]"
   ]
  },
  {
   "cell_type": "code",
   "execution_count": 7,
   "metadata": {
    "ExecuteTime": {
     "end_time": "2020-07-10T14:50:21.813925Z",
     "start_time": "2020-07-10T14:50:21.808645Z"
    }
   },
   "outputs": [],
   "source": [
    "# Set the least amount of acceptet signal\n",
    "# we want to keep at least half of the original signal\n",
    "minimum_signal = total_sig *  minimum_sig_ration\n"
   ]
  },
  {
   "cell_type": "code",
   "execution_count": 8,
   "metadata": {
    "ExecuteTime": {
     "end_time": "2020-07-10T14:50:21.975795Z",
     "start_time": "2020-07-10T14:50:21.820043Z"
    }
   },
   "outputs": [],
   "source": [
    "from scipy.optimize import minimize"
   ]
  },
  {
   "cell_type": "code",
   "execution_count": 9,
   "metadata": {
    "ExecuteTime": {
     "end_time": "2020-07-10T15:05:46.109012Z",
     "start_time": "2020-07-10T14:50:21.978302Z"
    },
    "scrolled": true
   },
   "outputs": [
    {
     "name": "stderr",
     "output_type": "stream",
     "text": [
      "/home/johannseverin/anaconda3/lib/python3.7/site-packages/ipykernel_launcher.py:13: RuntimeWarning: invalid value encountered in long_scalars\n",
      "  del sys.path[0]\n"
     ]
    }
   ],
   "source": [
    "y = minimize(lambda x: signal_to_noise(x), x0 = x0, \\\n",
    "         options = {'eps': 0.005}, \\\n",
    "         constraints = {'type': \"ineq\", 'fun': lambda x:  amount_of_signal(x) - minimum_signal})"
   ]
  },
  {
   "cell_type": "code",
   "execution_count": 11,
   "metadata": {
    "ExecuteTime": {
     "end_time": "2020-07-10T15:05:46.516913Z",
     "start_time": "2020-07-10T15:05:46.126615Z"
    }
   },
   "outputs": [],
   "source": [
    "sig_to_noise = -y.fun\n",
    "sig_amount   = amount_of_signal(y.x)"
   ]
  },
  {
   "cell_type": "code",
   "execution_count": 12,
   "metadata": {
    "ExecuteTime": {
     "end_time": "2020-07-10T15:05:46.532351Z",
     "start_time": "2020-07-10T15:05:46.521214Z"
    }
   },
   "outputs": [],
   "source": [
    "rxy_low, rxy_high, chi2_high, cosTheta_low, mass_low, mass_high = y.x\n",
    "\n",
    "rxy_low_min = (rxy_low * stds[0]) + means[0]\n",
    "rxy_high_min = (rxy_high * stds[0]) + means[0]\n",
    "chi2_high_min = (chi2_high * stds[1]) + means[1]\n",
    "cos_Theta_low_min = (cosTheta_low * stds[2]) + means[2] \n",
    "mass_low_min = (mass_low * stds[3]) + means[3]\n",
    "mass_high_min = (mass_high * stds[3]) + means[3]"
   ]
  },
  {
   "cell_type": "code",
   "execution_count": 13,
   "metadata": {
    "ExecuteTime": {
     "end_time": "2020-07-10T15:05:46.549364Z",
     "start_time": "2020-07-10T15:05:46.537164Z"
    }
   },
   "outputs": [
    {
     "name": "stdout",
     "output_type": "stream",
     "text": [
      "\n",
      "The new cuts are: rxy between -78.135 and 459.641\n",
      "For chi2 it is lower than 13.060\n",
      "For cosTheta, the cut is over 0.9885\n",
      "For mass it is between 459.487 and 543.462\n",
      "\n",
      "In train data we have:\n",
      "signal to noise is 4.03, up from 0.10\n",
      "Amount of signal is 264259, down from 278179\n",
      "\n"
     ]
    }
   ],
   "source": [
    "cut_string = f\"\"\"\n",
    "The new cuts are: rxy between {rxy_low_min:.3f} and {rxy_high_min:.3f}\n",
    "For chi2 it is lower than {chi2_high_min:.3f}\n",
    "For cosTheta, the cut is over {cos_Theta_low_min:.4f}\n",
    "For mass it is between {mass_low_min:.3f} and {mass_high_min:.3f}\n",
    "\n",
    "In train data we have:\n",
    "signal to noise is {sig_to_noise:.2f}, up from {total_sig_noise:.2f}\n",
    "Amount of signal is {sig_amount}, down from {total_sig}\n",
    "\"\"\"\n",
    "\n",
    "print(cut_string)"
   ]
  },
  {
   "cell_type": "markdown",
   "metadata": {},
   "source": [
    "## In test data"
   ]
  },
  {
   "cell_type": "code",
   "execution_count": 14,
   "metadata": {
    "ExecuteTime": {
     "end_time": "2020-07-10T15:05:47.211628Z",
     "start_time": "2020-07-10T15:05:46.555469Z"
    }
   },
   "outputs": [],
   "source": [
    "df_test = T.pandas.df(\"v0_rxy v0_chi2 cosTheta v0_ks_mass trueKs\".split(\" \"), entrystart = train, entrystop = test + train)\n",
    "\n",
    "total_test_sig = (df_test['trueKs'] == 1).sum()\n",
    "total_sig_noise_test = (df_test['trueKs'] == 1).sum() / (df_test['trueKs'] == 0).sum()\n",
    "# print(total_test_sig)\n",
    "\n",
    "df_test = df_test.loc[np.logical_and(df_test['v0_rxy'] > rxy_low_min, df_test['v0_rxy'] < rxy_high_min)]\n",
    "df_test = df_test.loc[df_test['v0_chi2'] < chi2_high_min]\n",
    "df_test = df_test.loc[df_test['cosTheta'] > cos_Theta_low_min]\n",
    "df_test = df_test.loc[np.logical_and(df_test['v0_ks_mass'] > mass_low_min, df_test['v0_ks_mass'] < mass_high_min)]\n",
    "\n"
   ]
  },
  {
   "cell_type": "code",
   "execution_count": 15,
   "metadata": {
    "ExecuteTime": {
     "end_time": "2020-07-10T15:05:47.225731Z",
     "start_time": "2020-07-10T15:05:47.214574Z"
    }
   },
   "outputs": [],
   "source": [
    "sig_noise_test, sig_test_after = (df_test['trueKs'] == 1).sum() / (df_test['trueKs'] == 0).sum(), (df_test['trueKs'] == 1).sum()"
   ]
  },
  {
   "cell_type": "code",
   "execution_count": 16,
   "metadata": {
    "ExecuteTime": {
     "end_time": "2020-07-10T15:05:51.373654Z",
     "start_time": "2020-07-10T15:05:47.229721Z"
    }
   },
   "outputs": [
    {
     "data": {
      "image/png": "[encoded data removed]",
      "text/plain": [
       "<Figure size 1224x504 with 8 Axes>"
      ]
     },
     "metadata": {
      "needs_background": "light"
     },
     "output_type": "display_data"
    }
   ],
   "source": [
    "fig, ax = plt.subplots(ncols = 4, nrows = 2, figsize = (17, 7))\n",
    "bins = 100\n",
    "\n",
    "plot_values = \"v0_rxy v0_chi2 cosTheta v0_ks_mass\".split(\" \") # Values to plot \n",
    "trueKs = df_test[\"trueKs\"].astype(bool) # Identify true/false for Ks \n",
    "\n",
    "for i, col in enumerate(plot_values):\n",
    "    ax[0][i].set_title(col)\n",
    "    ax[0][i].hist(df_test[col].loc[trueKs], bins = bins, color = \"green\")\n",
    "    ax[1][i].hist(df_test[col].loc[trueKs.apply(lambda x: not x)], bins = bins, color = \"red\")\n",
    "    \n",
    "ax[0][0].set_ylabel(\"TrueKs\")\n",
    "ax[1][0].set_ylabel(\"FalseKs\")\n",
    "\n",
    "fig.tight_layout()"
   ]
  },
  {
   "cell_type": "code",
   "execution_count": 17,
   "metadata": {
    "ExecuteTime": {
     "end_time": "2020-07-10T15:05:51.382998Z",
     "start_time": "2020-07-10T15:05:51.377163Z"
    }
   },
   "outputs": [
    {
     "name": "stdout",
     "output_type": "stream",
     "text": [
      "\n",
      "In test data, we have:\n",
      "signal to noise is 3.97, up from 0.10\n",
      "Amount of signal is 261935, down from 276018\n",
      "\n"
     ]
    }
   ],
   "source": [
    "test_data_string = f\"\"\"\n",
    "In test data, we have:\n",
    "signal to noise is {sig_noise_test:.2f}, up from {total_sig_noise_test:.2f}\n",
    "Amount of signal is {sig_test_after}, down from {total_test_sig}\n",
    "\"\"\"\n",
    "print(test_data_string)"
   ]
  },
  {
   "cell_type": "code",
   "execution_count": null,
   "metadata": {},
   "outputs": [],
   "source": []
  }
 ],
 "metadata": {
  "kernelspec": {
   "display_name": "Python 3",
   "language": "python",
   "name": "python3"
  },
  "language_info": {
   "codemirror_mode": {
    "name": "ipython",
    "version": 3
   },
   "file_extension": ".py",
   "mimetype": "text/x-python",
   "name": "python",
   "nbconvert_exporter": "python",
   "pygments_lexer": "ipython3",
   "version": "3.7.6"
  },
  "toc": {
   "base_numbering": 1,
   "nav_menu": {},
   "number_sections": true,
   "sideBar": true,
   "skip_h1_title": true,
   "title_cell": "Table of Contents",
   "title_sidebar": "Contents",
   "toc_cell": false,
   "toc_position": {},
   "toc_section_display": true,
   "toc_window_display": false
  }
 },
 "nbformat": 4,
 "nbformat_minor": 4
}
