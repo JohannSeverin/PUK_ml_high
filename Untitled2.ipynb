{
 "cells": [
  {
   "cell_type": "code",
   "execution_count": 1,
   "metadata": {},
   "outputs": [
    {
     "name": "stdout",
     "output_type": "stream",
     "text": [
      "IPython console for SymPy 1.5.1 (Python 3.7.6-64-bit) (ground types: python)\n",
      "\n",
      "These commands were executed:\n",
      ">>> from __future__ import division\n",
      ">>> from sympy import *\n",
      ">>> x, y, z, t = symbols('x y z t')\n",
      ">>> k, m, n = symbols('k m n', integer=True)\n",
      ">>> f, g, h = symbols('f g h', cls=Function)\n",
      ">>> init_printing()\n",
      "\n",
      "Documentation can be found at https://docs.sympy.org/1.5.1/\n",
      "\n"
     ]
    }
   ],
   "source": [
    "import sympy\n",
    "sympy.init_session()"
   ]
  },
  {
   "cell_type": "code",
   "execution_count": 5,
   "metadata": {},
   "outputs": [
    {
     "ename": "TypeError",
     "evalue": "'Symbol' object is not subscriptable",
     "output_type": "error",
     "traceback": [
      "\u001b[0;31m---------------------------------------------------------------------------\u001b[0m",
      "\u001b[0;31mTypeError\u001b[0m                                 Traceback (most recent call last)",
      "\u001b[0;32m<ipython-input-5-955e72d33460>\u001b[0m in \u001b[0;36m<module>\u001b[0;34m\u001b[0m\n\u001b[1;32m      5\u001b[0m \u001b[0ma3\u001b[0m \u001b[0;34m=\u001b[0m \u001b[0;36m10\u001b[0m\u001b[0;34m\u001b[0m\u001b[0;34m\u001b[0m\u001b[0m\n\u001b[1;32m      6\u001b[0m \u001b[0;34m\u001b[0m\u001b[0m\n\u001b[0;32m----> 7\u001b[0;31m \u001b[0mnsolve\u001b[0m\u001b[0;34m(\u001b[0m\u001b[0mEq\u001b[0m\u001b[0;34m(\u001b[0m\u001b[0;36m1000\u001b[0m \u001b[0;34m/\u001b[0m \u001b[0;34m(\u001b[0m\u001b[0;36m1\u001b[0m \u001b[0;34m+\u001b[0m \u001b[0mx\u001b[0m\u001b[0;34m)\u001b[0m\u001b[0;34m,\u001b[0m \u001b[0mc\u001b[0m\u001b[0;34m/\u001b[0m\u001b[0mh0\u001b[0m \u001b[0;34m*\u001b[0m \u001b[0mintegrate\u001b[0m\u001b[0;34m(\u001b[0m\u001b[0;36m1\u001b[0m\u001b[0;34m/\u001b[0m\u001b[0msqrt\u001b[0m\u001b[0;34m(\u001b[0m\u001b[0ma1\u001b[0m \u001b[0;34m*\u001b[0m \u001b[0;34m(\u001b[0m\u001b[0;36m1\u001b[0m \u001b[0;34m+\u001b[0m \u001b[0my\u001b[0m\u001b[0;34m)\u001b[0m \u001b[0;34m**\u001b[0m \u001b[0;36m4\u001b[0m \u001b[0;34m+\u001b[0m \u001b[0ma2\u001b[0m \u001b[0;34m*\u001b[0m \u001b[0;34m(\u001b[0m\u001b[0;36m1\u001b[0m \u001b[0;34m+\u001b[0m \u001b[0my\u001b[0m\u001b[0;34m)\u001b[0m\u001b[0;34m**\u001b[0m\u001b[0;36m3\u001b[0m \u001b[0;34m+\u001b[0m \u001b[0ma3\u001b[0m\u001b[0;34m)\u001b[0m\u001b[0;34m,\u001b[0m \u001b[0;34m(\u001b[0m\u001b[0my\u001b[0m\u001b[0;34m,\u001b[0m \u001b[0;36m0\u001b[0m\u001b[0;34m,\u001b[0m \u001b[0mx\u001b[0m\u001b[0;34m)\u001b[0m\u001b[0;34m)\u001b[0m\u001b[0;34m)\u001b[0m\u001b[0;34m,\u001b[0m \u001b[0my\u001b[0m\u001b[0;34m,\u001b[0m \u001b[0;36m1\u001b[0m\u001b[0;34m)\u001b[0m\u001b[0;34m\u001b[0m\u001b[0;34m\u001b[0m\u001b[0m\n\u001b[0m",
      "\u001b[0;32m/opt/conda/envs/python3/lib/python3.7/site-packages/sympy/utilities/decorator.py\u001b[0m in \u001b[0;36mfunc_wrapper\u001b[0;34m(*args, **kwargs)\u001b[0m\n\u001b[1;32m     88\u001b[0m         \u001b[0mdps\u001b[0m \u001b[0;34m=\u001b[0m \u001b[0mmpmath\u001b[0m\u001b[0;34m.\u001b[0m\u001b[0mmp\u001b[0m\u001b[0;34m.\u001b[0m\u001b[0mdps\u001b[0m\u001b[0;34m\u001b[0m\u001b[0;34m\u001b[0m\u001b[0m\n\u001b[1;32m     89\u001b[0m         \u001b[0;32mtry\u001b[0m\u001b[0;34m:\u001b[0m\u001b[0;34m\u001b[0m\u001b[0;34m\u001b[0m\u001b[0m\n\u001b[0;32m---> 90\u001b[0;31m             \u001b[0;32mreturn\u001b[0m \u001b[0mfunc\u001b[0m\u001b[0;34m(\u001b[0m\u001b[0;34m*\u001b[0m\u001b[0margs\u001b[0m\u001b[0;34m,\u001b[0m \u001b[0;34m**\u001b[0m\u001b[0mkwargs\u001b[0m\u001b[0;34m)\u001b[0m\u001b[0;34m\u001b[0m\u001b[0;34m\u001b[0m\u001b[0m\n\u001b[0m\u001b[1;32m     91\u001b[0m         \u001b[0;32mfinally\u001b[0m\u001b[0;34m:\u001b[0m\u001b[0;34m\u001b[0m\u001b[0;34m\u001b[0m\u001b[0m\n\u001b[1;32m     92\u001b[0m             \u001b[0mmpmath\u001b[0m\u001b[0;34m.\u001b[0m\u001b[0mmp\u001b[0m\u001b[0;34m.\u001b[0m\u001b[0mdps\u001b[0m \u001b[0;34m=\u001b[0m \u001b[0mdps\u001b[0m\u001b[0;34m\u001b[0m\u001b[0;34m\u001b[0m\u001b[0m\n",
      "\u001b[0;32m/opt/conda/envs/python3/lib/python3.7/site-packages/sympy/solvers/solvers.py\u001b[0m in \u001b[0;36mnsolve\u001b[0;34m(*args, **kwargs)\u001b[0m\n\u001b[1;32m   3014\u001b[0m         \u001b[0;32mif\u001b[0m \u001b[0mfargs\u001b[0m \u001b[0;32mis\u001b[0m \u001b[0;32mNone\u001b[0m\u001b[0;34m:\u001b[0m\u001b[0;34m\u001b[0m\u001b[0;34m\u001b[0m\u001b[0m\n\u001b[1;32m   3015\u001b[0m             \u001b[0mfargs\u001b[0m \u001b[0;34m=\u001b[0m \u001b[0msyms\u001b[0m\u001b[0;34m.\u001b[0m\u001b[0mcopy\u001b[0m\u001b[0;34m(\u001b[0m\u001b[0;34m)\u001b[0m\u001b[0;34m.\u001b[0m\u001b[0mpop\u001b[0m\u001b[0;34m(\u001b[0m\u001b[0;34m)\u001b[0m\u001b[0;34m\u001b[0m\u001b[0;34m\u001b[0m\u001b[0m\n\u001b[0;32m-> 3016\u001b[0;31m         \u001b[0;32mif\u001b[0m \u001b[0;32mnot\u001b[0m \u001b[0;34m(\u001b[0m\u001b[0mlen\u001b[0m\u001b[0;34m(\u001b[0m\u001b[0msyms\u001b[0m\u001b[0;34m)\u001b[0m \u001b[0;34m==\u001b[0m \u001b[0;36m1\u001b[0m \u001b[0;32mand\u001b[0m \u001b[0;34m(\u001b[0m\u001b[0mfargs\u001b[0m \u001b[0;32min\u001b[0m \u001b[0msyms\u001b[0m \u001b[0;32mor\u001b[0m \u001b[0mfargs\u001b[0m\u001b[0;34m[\u001b[0m\u001b[0;36m0\u001b[0m\u001b[0;34m]\u001b[0m \u001b[0;32min\u001b[0m \u001b[0msyms\u001b[0m\u001b[0;34m)\u001b[0m\u001b[0;34m)\u001b[0m\u001b[0;34m:\u001b[0m\u001b[0;34m\u001b[0m\u001b[0;34m\u001b[0m\u001b[0m\n\u001b[0m\u001b[1;32m   3017\u001b[0m             raise ValueError(filldedent('''\n\u001b[1;32m   3018\u001b[0m                 expected a one-dimensional and numerical function'''))\n",
      "\u001b[0;31mTypeError\u001b[0m: 'Symbol' object is not subscriptable"
     ]
    }
   ],
   "source": [
    "c = 3.0e8\n",
    "h0 = 6\n",
    "a1 = 10\n",
    "a2 = 10\n",
    "a3 = 10\n",
    "\n",
    "nsolve(Eq(1000 / (1 + x), c/h0 * integrate(1/sqrt(a1 * (1 + y) ** 4 + a2 * (1 + y)**3 + a3), (y, 0, x))), y, 1)"
   ]
  },
  {
   "cell_type": "code",
   "execution_count": 4,
   "metadata": {},
   "outputs": [
    {
     "name": "stdout",
     "output_type": "stream",
     "text": [
      "Help on function nsolve in module sympy.solvers.solvers:\n",
      "\n",
      "nsolve(*args, **kwargs)\n",
      "    Solve a nonlinear equation system numerically::\n",
      "    \n",
      "        nsolve(f, [args,] x0, modules=['mpmath'], **kwargs)\n",
      "    \n",
      "    f is a vector function of symbolic expressions representing the system.\n",
      "    args are the variables. If there is only one variable, this argument can\n",
      "    be omitted.\n",
      "    x0 is a starting vector close to a solution.\n",
      "    \n",
      "    Use the modules keyword to specify which modules should be used to\n",
      "    evaluate the function and the Jacobian matrix. Make sure to use a module\n",
      "    that supports matrices. For more information on the syntax, please see the\n",
      "    docstring of lambdify.\n",
      "    \n",
      "    If the keyword arguments contain 'dict'=True (default is False) nsolve\n",
      "    will return a list (perhaps empty) of solution mappings. This might be\n",
      "    especially useful if you want to use nsolve as a fallback to solve since\n",
      "    using the dict argument for both methods produces return values of\n",
      "    consistent type structure. Please note: to keep this consistency with\n",
      "    solve, the solution will be returned in a list even though nsolve\n",
      "    (currently at least) only finds one solution at a time.\n",
      "    \n",
      "    Overdetermined systems are supported.\n",
      "    \n",
      "    >>> from sympy import Symbol, nsolve\n",
      "    >>> import sympy\n",
      "    >>> import mpmath\n",
      "    >>> mpmath.mp.dps = 15\n",
      "    >>> x1 = Symbol('x1')\n",
      "    >>> x2 = Symbol('x2')\n",
      "    >>> f1 = 3 * x1**2 - 2 * x2**2 - 1\n",
      "    >>> f2 = x1**2 - 2 * x1 + x2**2 + 2 * x2 - 8\n",
      "    >>> print(nsolve((f1, f2), (x1, x2), (-1, 1)))\n",
      "    Matrix([[-1.19287309935246], [1.27844411169911]])\n",
      "    \n",
      "    For one-dimensional functions the syntax is simplified:\n",
      "    \n",
      "    >>> from sympy import sin, nsolve\n",
      "    >>> from sympy.abc import x\n",
      "    >>> nsolve(sin(x), x, 2)\n",
      "    3.14159265358979\n",
      "    >>> nsolve(sin(x), 2)\n",
      "    3.14159265358979\n",
      "    \n",
      "    To solve with higher precision than the default, use the prec argument.\n",
      "    \n",
      "    >>> from sympy import cos\n",
      "    >>> nsolve(cos(x) - x, 1)\n",
      "    0.739085133215161\n",
      "    >>> nsolve(cos(x) - x, 1, prec=50)\n",
      "    0.73908513321516064165531208767387340401341175890076\n",
      "    >>> cos(_)\n",
      "    0.73908513321516064165531208767387340401341175890076\n",
      "    \n",
      "    To solve for complex roots of real functions, a nonreal initial point\n",
      "    must be specified:\n",
      "    \n",
      "    >>> from sympy import I\n",
      "    >>> nsolve(x**2 + 2, I)\n",
      "    1.4142135623731*I\n",
      "    \n",
      "    mpmath.findroot is used and you can find there more extensive\n",
      "    documentation, especially concerning keyword parameters and\n",
      "    available solvers. Note, however, that functions which are very\n",
      "    steep near the root the verification of the solution may fail. In\n",
      "    this case you should use the flag `verify=False` and\n",
      "    independently verify the solution.\n",
      "    \n",
      "    >>> from sympy import cos, cosh\n",
      "    >>> from sympy.abc import i\n",
      "    >>> f = cos(x)*cosh(x) - 1\n",
      "    >>> nsolve(f, 3.14*100)\n",
      "    Traceback (most recent call last):\n",
      "    ...\n",
      "    ValueError: Could not find root within given tolerance. (1.39267e+230 > 2.1684e-19)\n",
      "    >>> ans = nsolve(f, 3.14*100, verify=False); ans\n",
      "    312.588469032184\n",
      "    >>> f.subs(x, ans).n(2)\n",
      "    2.1e+121\n",
      "    >>> (f/f.diff(x)).subs(x, ans).n(2)\n",
      "    7.4e-15\n",
      "    \n",
      "    One might safely skip the verification if bounds of the root are known\n",
      "    and a bisection method is used:\n",
      "    \n",
      "    >>> bounds = lambda i: (3.14*i, 3.14*(i + 1))\n",
      "    >>> nsolve(f, bounds(100), solver='bisect', verify=False)\n",
      "    315.730061685774\n",
      "    \n",
      "    Alternatively, a function may be better behaved when the\n",
      "    denominator is ignored. Since this is not always the case, however,\n",
      "    the decision of what function to use is left to the discretion of\n",
      "    the user.\n",
      "    \n",
      "    >>> eq = x**2/(1 - x)/(1 - 2*x)**2 - 100\n",
      "    >>> nsolve(eq, 0.46)\n",
      "    Traceback (most recent call last):\n",
      "    ...\n",
      "    ValueError: Could not find root within given tolerance. (10000 > 2.1684e-19)\n",
      "    Try another starting point or tweak arguments.\n",
      "    >>> nsolve(eq.as_numer_denom()[0], 0.46)\n",
      "    0.46792545969349058\n",
      "\n"
     ]
    }
   ],
   "source": [
    "help(nsolve)"
   ]
  },
  {
   "cell_type": "code",
   "execution_count": null,
   "metadata": {},
   "outputs": [],
   "source": []
  }
 ],
 "metadata": {
  "kernelspec": {
   "display_name": "Python 3",
   "language": "python",
   "name": "python3"
  },
  "language_info": {
   "codemirror_mode": {
    "name": "ipython",
    "version": 3
   },
   "file_extension": ".py",
   "mimetype": "text/x-python",
   "name": "python",
   "nbconvert_exporter": "python",
   "pygments_lexer": "ipython3",
   "version": "3.7.6"
  }
 },
 "nbformat": 4,
 "nbformat_minor": 4
}
